{
 "cells": [
  {
   "cell_type": "markdown",
   "id": "67b3c8b7-5638-4d6a-9f5c-36a5299c8b11",
   "metadata": {},
   "source": [
    "# Đồ án cuối kỳ môn: Lập trình cho khoa học dữ liệu"
   ]
  },
  {
   "cell_type": "markdown",
   "id": "957e4d94-8349-4ec8-a46a-282ea3141c31",
   "metadata": {},
   "source": [
    "## Danh sách thành viên\n",
    "\n",
    "| MSSV  | Họ tên  | Tài khoản github  |\n",
    "|:------|:--------|:------------------|\n",
    "1712770| Trương Thị Lệ Thanh  |thanhtruong1712|\n",
    "1712771|  Bùi Thái Tấn Thành  |thanhtan0501|"
   ]
  },
  {
   "cell_type": "markdown",
   "id": "cb76f18f-763b-4bc3-b72b-78d32a371320",
   "metadata": {},
   "source": [
    "## Import các thư viện cần thiết"
   ]
  },
  {
   "cell_type": "code",
   "execution_count": 2,
   "id": "8653a4c1-7584-4e11-a2c8-a38057cb6702",
   "metadata": {},
   "outputs": [],
   "source": [
    "import numpy as np\n",
    "import pandas as pd\n",
    "%matplotlib inline\n",
    "import matplotlib.pyplot as plt\n",
    "import seaborn as sns\n",
    "import plotly.express as px\n",
    "import datetime"
   ]
  },
  {
   "cell_type": "markdown",
   "id": "0fb70e72-912a-466c-9314-fd5faff3fe63",
   "metadata": {},
   "source": [
    "## Thu thập dữ liệu"
   ]
  },
  {
   "cell_type": "markdown",
   "id": "ad44562d-ca02-49cf-a6b5-0af5cc3c0f32",
   "metadata": {},
   "source": [
    "Bộ dữ liệu cung cấp thông tin về tổng số ca mắc, tử vong và hồi phục do tác động của dịch COVID-19 từ các quốc gia trên thế giới\n",
    "- Nguồn dữ liệu: https://www.kaggle.com/imdevskp/corona-virus-report"
   ]
  },
  {
   "cell_type": "markdown",
   "id": "c0a639ca-5760-41e6-9a24-56543cd77926",
   "metadata": {},
   "source": [
    "## Khám phá dữ liệu"
   ]
  },
  {
   "cell_type": "markdown",
   "id": "b776d281-6342-494f-8332-5b0a6e74ee05",
   "metadata": {},
   "source": [
    "### Đọc dữ liệu từ file csv vào dataframe"
   ]
  },
  {
   "cell_type": "code",
   "execution_count": 3,
   "id": "42ae77a5-b56f-4317-b8a0-e43e2a899715",
   "metadata": {},
   "outputs": [
    {
     "data": {
      "text/html": [
       "<div>\n",
       "<style scoped>\n",
       "    .dataframe tbody tr th:only-of-type {\n",
       "        vertical-align: middle;\n",
       "    }\n",
       "\n",
       "    .dataframe tbody tr th {\n",
       "        vertical-align: top;\n",
       "    }\n",
       "\n",
       "    .dataframe thead th {\n",
       "        text-align: right;\n",
       "    }\n",
       "</style>\n",
       "<table border=\"1\" class=\"dataframe\">\n",
       "  <thead>\n",
       "    <tr style=\"text-align: right;\">\n",
       "      <th></th>\n",
       "      <th>Province/State</th>\n",
       "      <th>Country/Region</th>\n",
       "      <th>Lat</th>\n",
       "      <th>Long</th>\n",
       "      <th>Date</th>\n",
       "      <th>Confirmed</th>\n",
       "      <th>Deaths</th>\n",
       "      <th>Recovered</th>\n",
       "      <th>Active</th>\n",
       "      <th>WHO Region</th>\n",
       "    </tr>\n",
       "  </thead>\n",
       "  <tbody>\n",
       "    <tr>\n",
       "      <th>0</th>\n",
       "      <td>NaN</td>\n",
       "      <td>Afghanistan</td>\n",
       "      <td>33.93911</td>\n",
       "      <td>67.709953</td>\n",
       "      <td>2020-01-22</td>\n",
       "      <td>0</td>\n",
       "      <td>0</td>\n",
       "      <td>0</td>\n",
       "      <td>0</td>\n",
       "      <td>Eastern Mediterranean</td>\n",
       "    </tr>\n",
       "    <tr>\n",
       "      <th>1</th>\n",
       "      <td>NaN</td>\n",
       "      <td>Albania</td>\n",
       "      <td>41.15330</td>\n",
       "      <td>20.168300</td>\n",
       "      <td>2020-01-22</td>\n",
       "      <td>0</td>\n",
       "      <td>0</td>\n",
       "      <td>0</td>\n",
       "      <td>0</td>\n",
       "      <td>Europe</td>\n",
       "    </tr>\n",
       "    <tr>\n",
       "      <th>2</th>\n",
       "      <td>NaN</td>\n",
       "      <td>Algeria</td>\n",
       "      <td>28.03390</td>\n",
       "      <td>1.659600</td>\n",
       "      <td>2020-01-22</td>\n",
       "      <td>0</td>\n",
       "      <td>0</td>\n",
       "      <td>0</td>\n",
       "      <td>0</td>\n",
       "      <td>Africa</td>\n",
       "    </tr>\n",
       "    <tr>\n",
       "      <th>3</th>\n",
       "      <td>NaN</td>\n",
       "      <td>Andorra</td>\n",
       "      <td>42.50630</td>\n",
       "      <td>1.521800</td>\n",
       "      <td>2020-01-22</td>\n",
       "      <td>0</td>\n",
       "      <td>0</td>\n",
       "      <td>0</td>\n",
       "      <td>0</td>\n",
       "      <td>Europe</td>\n",
       "    </tr>\n",
       "    <tr>\n",
       "      <th>4</th>\n",
       "      <td>NaN</td>\n",
       "      <td>Angola</td>\n",
       "      <td>-11.20270</td>\n",
       "      <td>17.873900</td>\n",
       "      <td>2020-01-22</td>\n",
       "      <td>0</td>\n",
       "      <td>0</td>\n",
       "      <td>0</td>\n",
       "      <td>0</td>\n",
       "      <td>Africa</td>\n",
       "    </tr>\n",
       "  </tbody>\n",
       "</table>\n",
       "</div>"
      ],
      "text/plain": [
       "  Province/State Country/Region       Lat       Long        Date  Confirmed  \\\n",
       "0            NaN    Afghanistan  33.93911  67.709953  2020-01-22          0   \n",
       "1            NaN        Albania  41.15330  20.168300  2020-01-22          0   \n",
       "2            NaN        Algeria  28.03390   1.659600  2020-01-22          0   \n",
       "3            NaN        Andorra  42.50630   1.521800  2020-01-22          0   \n",
       "4            NaN         Angola -11.20270  17.873900  2020-01-22          0   \n",
       "\n",
       "   Deaths  Recovered  Active             WHO Region  \n",
       "0       0          0       0  Eastern Mediterranean  \n",
       "1       0          0       0                 Europe  \n",
       "2       0          0       0                 Africa  \n",
       "3       0          0       0                 Europe  \n",
       "4       0          0       0                 Africa  "
      ]
     },
     "execution_count": 3,
     "metadata": {},
     "output_type": "execute_result"
    }
   ],
   "source": [
    "df = pd.read_csv(\"Data/covid_19_clean_complete.csv\")\n",
    "df.head()"
   ]
  },
  {
   "cell_type": "markdown",
   "id": "de2118dd-b282-473f-9f46-cadf12802a4d",
   "metadata": {},
   "source": [
    "### Số dòng và số cột của dữ liệu"
   ]
  },
  {
   "cell_type": "markdown",
   "id": "4edfcb5f-4084-4c69-9907-150378343106",
   "metadata": {},
   "source": [
    "Số dòng và số cột của dữ liệu sẽ được tính và lưu vào hai biến `num_rows` và `num_cols`."
   ]
  },
  {
   "cell_type": "code",
   "execution_count": 3,
   "id": "1560718a-371b-43a7-a3ee-8f8446097ee9",
   "metadata": {},
   "outputs": [
    {
     "name": "stdout",
     "output_type": "stream",
     "text": [
      "Dữ liệu có 49068 dòng và 10 cột\n"
     ]
    }
   ],
   "source": [
    "num_rows, num_cols = df.shape\n",
    "print(\"Dữ liệu có {} dòng và {} cột\".format(num_rows, num_cols))"
   ]
  },
  {
   "cell_type": "markdown",
   "id": "65fa2e11-bfba-4025-96aa-42bbb998c850",
   "metadata": {},
   "source": [
    "### Mỗi dòng có ý nghĩa gì? Có vấn đề các dòng có ý nghĩa khác nhau không?"
   ]
  },
  {
   "cell_type": "markdown",
   "id": "cc00296f-3c7b-46e5-80b4-e61d8abfe67f",
   "metadata": {},
   "source": [
    "- Mỗi dòng mang thông tin về các trường hợp COVID-19 đã được xác nhận, tử vong và đã phục hồi từ các quốc gia khác nhau kể từ ngày 22/01/2020 đến ngày 27/07/2020\n",
    "- Có vẻ không có dòng nào có ý nghĩa khác so với các dòng còn lại."
   ]
  },
  {
   "cell_type": "markdown",
   "id": "d0990ceb-87a6-49df-9112-ec3c29206a73",
   "metadata": {},
   "source": [
    "### Dữ liệu có các dòng bị lặp không?"
   ]
  },
  {
   "cell_type": "code",
   "execution_count": 4,
   "id": "7994ff40-5ede-429b-a9e8-9dbbf3872e1a",
   "metadata": {},
   "outputs": [
    {
     "name": "stdout",
     "output_type": "stream",
     "text": [
      "Dữ liệu có số dòng bị lặp: 0\n"
     ]
    }
   ],
   "source": [
    "print(\"Dữ liệu có số dòng bị lặp: {}\".format(df.duplicated().sum()))"
   ]
  },
  {
   "cell_type": "markdown",
   "id": "7889bb9b-66fe-4e07-98db-fbecff9528af",
   "metadata": {},
   "source": [
    "### Mỗi cột có ý nghĩa gì?"
   ]
  },
  {
   "cell_type": "markdown",
   "id": "08d779aa-bb79-4756-a3f9-df6870643461",
   "metadata": {},
   "source": []
  },
  {
   "cell_type": "markdown",
   "id": "87a3aff2-e999-424d-8ee5-fe8191da88a1",
   "metadata": {},
   "source": [
    "### Mỗi cột hiện đang có kiểu dữ liệu gì?"
   ]
  },
  {
   "cell_type": "code",
   "execution_count": null,
   "id": "717f4163-5c9f-4133-931b-068964be5c0f",
   "metadata": {},
   "outputs": [],
   "source": []
  },
  {
   "cell_type": "markdown",
   "id": "5c602f87-7c1d-4db2-8508-7cbbff354e43",
   "metadata": {},
   "source": [
    "### Với mỗi cột có kiểu dữ liệu dạng số (numerical), các giá trị được phân bố như thế nào?"
   ]
  },
  {
   "cell_type": "code",
   "execution_count": 5,
   "id": "423959de-6e73-40ea-97d9-2d7e908dd016",
   "metadata": {},
   "outputs": [
    {
     "data": {
      "text/html": [
       "<div>\n",
       "<style scoped>\n",
       "    .dataframe tbody tr th:only-of-type {\n",
       "        vertical-align: middle;\n",
       "    }\n",
       "\n",
       "    .dataframe tbody tr th {\n",
       "        vertical-align: top;\n",
       "    }\n",
       "\n",
       "    .dataframe thead th {\n",
       "        text-align: right;\n",
       "    }\n",
       "</style>\n",
       "<table border=\"1\" class=\"dataframe\">\n",
       "  <thead>\n",
       "    <tr style=\"text-align: right;\">\n",
       "      <th></th>\n",
       "      <th>Lat</th>\n",
       "      <th>Long</th>\n",
       "      <th>Date</th>\n",
       "      <th>Confirmed</th>\n",
       "      <th>Deaths</th>\n",
       "      <th>Recovered</th>\n",
       "      <th>Active</th>\n",
       "    </tr>\n",
       "  </thead>\n",
       "  <tbody>\n",
       "    <tr>\n",
       "      <th>missing_ratio</th>\n",
       "      <td>0.0000</td>\n",
       "      <td>0.000</td>\n",
       "      <td>0.0</td>\n",
       "      <td>0.0</td>\n",
       "      <td>0.0</td>\n",
       "      <td>0.0</td>\n",
       "      <td>0.0</td>\n",
       "    </tr>\n",
       "    <tr>\n",
       "      <th>min</th>\n",
       "      <td>-51.7963</td>\n",
       "      <td>-135.000</td>\n",
       "      <td>2020-01-22</td>\n",
       "      <td>0.0</td>\n",
       "      <td>0.0</td>\n",
       "      <td>0.0</td>\n",
       "      <td>-14.0</td>\n",
       "    </tr>\n",
       "    <tr>\n",
       "      <th>max</th>\n",
       "      <td>71.7069</td>\n",
       "      <td>178.065</td>\n",
       "      <td>2020-07-27</td>\n",
       "      <td>4290259.0</td>\n",
       "      <td>148011.0</td>\n",
       "      <td>1846641.0</td>\n",
       "      <td>2816444.0</td>\n",
       "    </tr>\n",
       "  </tbody>\n",
       "</table>\n",
       "</div>"
      ],
      "text/plain": [
       "                   Lat     Long        Date  Confirmed    Deaths  Recovered  \\\n",
       "missing_ratio   0.0000    0.000         0.0        0.0       0.0        0.0   \n",
       "min           -51.7963 -135.000  2020-01-22        0.0       0.0        0.0   \n",
       "max            71.7069  178.065  2020-07-27  4290259.0  148011.0  1846641.0   \n",
       "\n",
       "                  Active  \n",
       "missing_ratio        0.0  \n",
       "min                -14.0  \n",
       "max            2816444.0  "
      ]
     },
     "execution_count": 5,
     "metadata": {},
     "output_type": "execute_result"
    }
   ],
   "source": [
    "nume_df = df[[\"Lat\", \"Long\", \"Date\", \"Confirmed\", \"Deaths\", \"Recovered\", \"Active\"]]\n",
    "def missing_ratio(s):\n",
    "    return s.isna().mean() * 100\n",
    "nume_col_profiles_df = nume_df.agg([missing_ratio, min, max])\n",
    "nume_col_profiles_df"
   ]
  },
  {
   "cell_type": "markdown",
   "id": "c2fc975c",
   "metadata": {},
   "source": [
    "Ta thấy không có giá trị thiếu. Cột `Active` có giá trị min là số âm ==> Cột `Active` có giá trị bất thường. Ta xét giá trị của cột `Active` <0"
   ]
  },
  {
   "cell_type": "code",
   "execution_count": 6,
   "id": "24dd62f8",
   "metadata": {},
   "outputs": [
    {
     "data": {
      "text/html": [
       "<div>\n",
       "<style scoped>\n",
       "    .dataframe tbody tr th:only-of-type {\n",
       "        vertical-align: middle;\n",
       "    }\n",
       "\n",
       "    .dataframe tbody tr th {\n",
       "        vertical-align: top;\n",
       "    }\n",
       "\n",
       "    .dataframe thead th {\n",
       "        text-align: right;\n",
       "    }\n",
       "</style>\n",
       "<table border=\"1\" class=\"dataframe\">\n",
       "  <thead>\n",
       "    <tr style=\"text-align: right;\">\n",
       "      <th></th>\n",
       "      <th>Province/State</th>\n",
       "      <th>Country/Region</th>\n",
       "      <th>Lat</th>\n",
       "      <th>Long</th>\n",
       "      <th>Date</th>\n",
       "      <th>Confirmed</th>\n",
       "      <th>Deaths</th>\n",
       "      <th>Recovered</th>\n",
       "      <th>Active</th>\n",
       "      <th>WHO Region</th>\n",
       "    </tr>\n",
       "  </thead>\n",
       "  <tbody>\n",
       "    <tr>\n",
       "      <th>16238</th>\n",
       "      <td>Hainan</td>\n",
       "      <td>China</td>\n",
       "      <td>19.195900</td>\n",
       "      <td>109.745300</td>\n",
       "      <td>2020-03-24</td>\n",
       "      <td>168</td>\n",
       "      <td>6</td>\n",
       "      <td>168</td>\n",
       "      <td>-6</td>\n",
       "      <td>Western Pacific</td>\n",
       "    </tr>\n",
       "    <tr>\n",
       "      <th>16499</th>\n",
       "      <td>Hainan</td>\n",
       "      <td>China</td>\n",
       "      <td>19.195900</td>\n",
       "      <td>109.745300</td>\n",
       "      <td>2020-03-25</td>\n",
       "      <td>168</td>\n",
       "      <td>6</td>\n",
       "      <td>168</td>\n",
       "      <td>-6</td>\n",
       "      <td>Western Pacific</td>\n",
       "    </tr>\n",
       "    <tr>\n",
       "      <th>16760</th>\n",
       "      <td>Hainan</td>\n",
       "      <td>China</td>\n",
       "      <td>19.195900</td>\n",
       "      <td>109.745300</td>\n",
       "      <td>2020-03-26</td>\n",
       "      <td>168</td>\n",
       "      <td>6</td>\n",
       "      <td>168</td>\n",
       "      <td>-6</td>\n",
       "      <td>Western Pacific</td>\n",
       "    </tr>\n",
       "    <tr>\n",
       "      <th>17021</th>\n",
       "      <td>Hainan</td>\n",
       "      <td>China</td>\n",
       "      <td>19.195900</td>\n",
       "      <td>109.745300</td>\n",
       "      <td>2020-03-27</td>\n",
       "      <td>168</td>\n",
       "      <td>6</td>\n",
       "      <td>168</td>\n",
       "      <td>-6</td>\n",
       "      <td>Western Pacific</td>\n",
       "    </tr>\n",
       "    <tr>\n",
       "      <th>17282</th>\n",
       "      <td>Hainan</td>\n",
       "      <td>China</td>\n",
       "      <td>19.195900</td>\n",
       "      <td>109.745300</td>\n",
       "      <td>2020-03-28</td>\n",
       "      <td>168</td>\n",
       "      <td>6</td>\n",
       "      <td>168</td>\n",
       "      <td>-6</td>\n",
       "      <td>Western Pacific</td>\n",
       "    </tr>\n",
       "    <tr>\n",
       "      <th>17543</th>\n",
       "      <td>Hainan</td>\n",
       "      <td>China</td>\n",
       "      <td>19.195900</td>\n",
       "      <td>109.745300</td>\n",
       "      <td>2020-03-29</td>\n",
       "      <td>168</td>\n",
       "      <td>6</td>\n",
       "      <td>168</td>\n",
       "      <td>-6</td>\n",
       "      <td>Western Pacific</td>\n",
       "    </tr>\n",
       "    <tr>\n",
       "      <th>17804</th>\n",
       "      <td>Hainan</td>\n",
       "      <td>China</td>\n",
       "      <td>19.195900</td>\n",
       "      <td>109.745300</td>\n",
       "      <td>2020-03-30</td>\n",
       "      <td>168</td>\n",
       "      <td>6</td>\n",
       "      <td>168</td>\n",
       "      <td>-6</td>\n",
       "      <td>Western Pacific</td>\n",
       "    </tr>\n",
       "    <tr>\n",
       "      <th>18065</th>\n",
       "      <td>Hainan</td>\n",
       "      <td>China</td>\n",
       "      <td>19.195900</td>\n",
       "      <td>109.745300</td>\n",
       "      <td>2020-03-31</td>\n",
       "      <td>168</td>\n",
       "      <td>6</td>\n",
       "      <td>168</td>\n",
       "      <td>-6</td>\n",
       "      <td>Western Pacific</td>\n",
       "    </tr>\n",
       "    <tr>\n",
       "      <th>18326</th>\n",
       "      <td>Hainan</td>\n",
       "      <td>China</td>\n",
       "      <td>19.195900</td>\n",
       "      <td>109.745300</td>\n",
       "      <td>2020-04-01</td>\n",
       "      <td>168</td>\n",
       "      <td>6</td>\n",
       "      <td>168</td>\n",
       "      <td>-6</td>\n",
       "      <td>Western Pacific</td>\n",
       "    </tr>\n",
       "    <tr>\n",
       "      <th>32059</th>\n",
       "      <td>Channel Islands</td>\n",
       "      <td>United Kingdom</td>\n",
       "      <td>49.372300</td>\n",
       "      <td>-2.364400</td>\n",
       "      <td>2020-05-23</td>\n",
       "      <td>558</td>\n",
       "      <td>45</td>\n",
       "      <td>515</td>\n",
       "      <td>-2</td>\n",
       "      <td>Europe</td>\n",
       "    </tr>\n",
       "    <tr>\n",
       "      <th>32320</th>\n",
       "      <td>Channel Islands</td>\n",
       "      <td>United Kingdom</td>\n",
       "      <td>49.372300</td>\n",
       "      <td>-2.364400</td>\n",
       "      <td>2020-05-24</td>\n",
       "      <td>558</td>\n",
       "      <td>45</td>\n",
       "      <td>517</td>\n",
       "      <td>-4</td>\n",
       "      <td>Europe</td>\n",
       "    </tr>\n",
       "    <tr>\n",
       "      <th>32581</th>\n",
       "      <td>Channel Islands</td>\n",
       "      <td>United Kingdom</td>\n",
       "      <td>49.372300</td>\n",
       "      <td>-2.364400</td>\n",
       "      <td>2020-05-25</td>\n",
       "      <td>559</td>\n",
       "      <td>45</td>\n",
       "      <td>517</td>\n",
       "      <td>-3</td>\n",
       "      <td>Europe</td>\n",
       "    </tr>\n",
       "    <tr>\n",
       "      <th>33886</th>\n",
       "      <td>Channel Islands</td>\n",
       "      <td>United Kingdom</td>\n",
       "      <td>49.372300</td>\n",
       "      <td>-2.364400</td>\n",
       "      <td>2020-05-30</td>\n",
       "      <td>560</td>\n",
       "      <td>45</td>\n",
       "      <td>525</td>\n",
       "      <td>-10</td>\n",
       "      <td>Europe</td>\n",
       "    </tr>\n",
       "    <tr>\n",
       "      <th>34147</th>\n",
       "      <td>Channel Islands</td>\n",
       "      <td>United Kingdom</td>\n",
       "      <td>49.372300</td>\n",
       "      <td>-2.364400</td>\n",
       "      <td>2020-05-31</td>\n",
       "      <td>560</td>\n",
       "      <td>45</td>\n",
       "      <td>528</td>\n",
       "      <td>-13</td>\n",
       "      <td>Europe</td>\n",
       "    </tr>\n",
       "    <tr>\n",
       "      <th>34408</th>\n",
       "      <td>Channel Islands</td>\n",
       "      <td>United Kingdom</td>\n",
       "      <td>49.372300</td>\n",
       "      <td>-2.364400</td>\n",
       "      <td>2020-06-01</td>\n",
       "      <td>560</td>\n",
       "      <td>45</td>\n",
       "      <td>528</td>\n",
       "      <td>-13</td>\n",
       "      <td>Europe</td>\n",
       "    </tr>\n",
       "    <tr>\n",
       "      <th>34669</th>\n",
       "      <td>Channel Islands</td>\n",
       "      <td>United Kingdom</td>\n",
       "      <td>49.372300</td>\n",
       "      <td>-2.364400</td>\n",
       "      <td>2020-06-02</td>\n",
       "      <td>560</td>\n",
       "      <td>46</td>\n",
       "      <td>528</td>\n",
       "      <td>-14</td>\n",
       "      <td>Europe</td>\n",
       "    </tr>\n",
       "    <tr>\n",
       "      <th>40080</th>\n",
       "      <td>NaN</td>\n",
       "      <td>Liechtenstein</td>\n",
       "      <td>47.140000</td>\n",
       "      <td>9.550000</td>\n",
       "      <td>2020-06-23</td>\n",
       "      <td>82</td>\n",
       "      <td>2</td>\n",
       "      <td>81</td>\n",
       "      <td>-1</td>\n",
       "      <td>Europe</td>\n",
       "    </tr>\n",
       "    <tr>\n",
       "      <th>47192</th>\n",
       "      <td>NaN</td>\n",
       "      <td>Uganda</td>\n",
       "      <td>1.373333</td>\n",
       "      <td>32.290275</td>\n",
       "      <td>2020-07-20</td>\n",
       "      <td>1069</td>\n",
       "      <td>0</td>\n",
       "      <td>1071</td>\n",
       "      <td>-2</td>\n",
       "      <td>Africa</td>\n",
       "    </tr>\n",
       "  </tbody>\n",
       "</table>\n",
       "</div>"
      ],
      "text/plain": [
       "        Province/State  Country/Region        Lat        Long        Date  \\\n",
       "16238           Hainan           China  19.195900  109.745300  2020-03-24   \n",
       "16499           Hainan           China  19.195900  109.745300  2020-03-25   \n",
       "16760           Hainan           China  19.195900  109.745300  2020-03-26   \n",
       "17021           Hainan           China  19.195900  109.745300  2020-03-27   \n",
       "17282           Hainan           China  19.195900  109.745300  2020-03-28   \n",
       "17543           Hainan           China  19.195900  109.745300  2020-03-29   \n",
       "17804           Hainan           China  19.195900  109.745300  2020-03-30   \n",
       "18065           Hainan           China  19.195900  109.745300  2020-03-31   \n",
       "18326           Hainan           China  19.195900  109.745300  2020-04-01   \n",
       "32059  Channel Islands  United Kingdom  49.372300   -2.364400  2020-05-23   \n",
       "32320  Channel Islands  United Kingdom  49.372300   -2.364400  2020-05-24   \n",
       "32581  Channel Islands  United Kingdom  49.372300   -2.364400  2020-05-25   \n",
       "33886  Channel Islands  United Kingdom  49.372300   -2.364400  2020-05-30   \n",
       "34147  Channel Islands  United Kingdom  49.372300   -2.364400  2020-05-31   \n",
       "34408  Channel Islands  United Kingdom  49.372300   -2.364400  2020-06-01   \n",
       "34669  Channel Islands  United Kingdom  49.372300   -2.364400  2020-06-02   \n",
       "40080              NaN   Liechtenstein  47.140000    9.550000  2020-06-23   \n",
       "47192              NaN          Uganda   1.373333   32.290275  2020-07-20   \n",
       "\n",
       "       Confirmed  Deaths  Recovered  Active       WHO Region  \n",
       "16238        168       6        168      -6  Western Pacific  \n",
       "16499        168       6        168      -6  Western Pacific  \n",
       "16760        168       6        168      -6  Western Pacific  \n",
       "17021        168       6        168      -6  Western Pacific  \n",
       "17282        168       6        168      -6  Western Pacific  \n",
       "17543        168       6        168      -6  Western Pacific  \n",
       "17804        168       6        168      -6  Western Pacific  \n",
       "18065        168       6        168      -6  Western Pacific  \n",
       "18326        168       6        168      -6  Western Pacific  \n",
       "32059        558      45        515      -2           Europe  \n",
       "32320        558      45        517      -4           Europe  \n",
       "32581        559      45        517      -3           Europe  \n",
       "33886        560      45        525     -10           Europe  \n",
       "34147        560      45        528     -13           Europe  \n",
       "34408        560      45        528     -13           Europe  \n",
       "34669        560      46        528     -14           Europe  \n",
       "40080         82       2         81      -1           Europe  \n",
       "47192       1069       0       1071      -2           Africa  "
      ]
     },
     "execution_count": 6,
     "metadata": {},
     "output_type": "execute_result"
    }
   ],
   "source": [
    "df[df['Active']<0]"
   ]
  },
  {
   "cell_type": "markdown",
   "id": "e97cefc6-9808-4704-9719-a8aff8d28d63",
   "metadata": {},
   "source": [
    "### Với mỗi cột có kiểu dữ liệu dạng categorical, các giá trị được phân bố như thế nào? "
   ]
  },
  {
   "cell_type": "code",
   "execution_count": null,
   "id": "5106f71d-c087-4224-bcb0-6bf80c7d8e0a",
   "metadata": {},
   "outputs": [],
   "source": []
  },
  {
   "cell_type": "markdown",
   "id": "49a4b5f0-3d93-4467-abec-487203b0e92f",
   "metadata": {},
   "source": [
    "## Đưa ra câu hỏi cần trả lời"
   ]
  },
  {
   "cell_type": "markdown",
   "id": "0027b0ba-f79d-4196-8655-6981646a7c87",
   "metadata": {},
   "source": [
    "### 1. Top 10 quốc gia có số ca nhiễm cao nhất thế giới ? "
   ]
  },
  {
   "cell_type": "markdown",
   "id": "c33a0518-7638-4772-a50e-140553ec3de6",
   "metadata": {},
   "source": [
    "Trả lời được câu hỏi này, ta sẽ biết được tình hình kiểm soát dịch của các quốc gia trên thế giới như thế nào."
   ]
  },
  {
   "cell_type": "code",
   "execution_count": null,
   "id": "786df7ac-2545-4fc5-92ee-3a8c7923ed91",
   "metadata": {},
   "outputs": [],
   "source": []
  },
  {
   "cell_type": "markdown",
   "id": "3f2698ee-7f08-4126-99e9-e9bdb3a2d130",
   "metadata": {},
   "source": [
    "### 2. Mỗi tháng, số ca tử vong của quốc gia nào cao nhất?"
   ]
  },
  {
   "cell_type": "markdown",
   "id": "d3785fde-770a-4b77-af33-fd7c09d7cd85",
   "metadata": {},
   "source": [
    "Trả lời được câu hỏi này, ta sẽ biết được khả năng phòng chống dịch của một quốc gia có tốt hay không , các biện pháp hỗ trợ người dân khi bị mắc COVID-19 có đầy đủ hay không?"
   ]
  },
  {
   "cell_type": "code",
   "execution_count": null,
   "id": "b3e1da26-3549-4c24-831b-a1d000fe0f97",
   "metadata": {},
   "outputs": [],
   "source": []
  }
 ],
 "metadata": {
  "kernelspec": {
   "display_name": "Python 3 (ipykernel)",
   "language": "python",
   "name": "python3"
  },
  "language_info": {
   "codemirror_mode": {
    "name": "ipython",
    "version": 3
   },
   "file_extension": ".py",
   "mimetype": "text/x-python",
   "name": "python",
   "nbconvert_exporter": "python",
   "pygments_lexer": "ipython3",
   "version": "3.8.8"
  }
 },
 "nbformat": 4,
 "nbformat_minor": 5
}
