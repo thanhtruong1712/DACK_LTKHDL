{
 "cells": [
  {
   "cell_type": "markdown",
   "id": "67b3c8b7-5638-4d6a-9f5c-36a5299c8b11",
   "metadata": {},
   "source": [
    "# Đồ án cuối kỳ môn: Lập trình cho khoa học dữ liệu"
   ]
  },
  {
   "cell_type": "markdown",
   "id": "957e4d94-8349-4ec8-a46a-282ea3141c31",
   "metadata": {},
   "source": [
    "## Danh sách thành viên\n",
    "\n",
    "| MSSV  | Họ tên  | Tài khoản github  |\n",
    "|:------|:--------|:------------------|\n",
    "1712770| Trương Thị Lệ Thanh  |thanhtruong1712|\n",
    "1712771|  Bùi Thái Tấn Thành  |thanhtan0501|"
   ]
  },
  {
   "cell_type": "markdown",
   "id": "cb76f18f-763b-4bc3-b72b-78d32a371320",
   "metadata": {},
   "source": [
    "## Import các thư viện cần thiết"
   ]
  },
  {
   "cell_type": "code",
   "execution_count": 2,
   "id": "8653a4c1-7584-4e11-a2c8-a38057cb6702",
   "metadata": {},
   "outputs": [],
   "source": [
    "import numpy as np\n",
    "import pandas as pd\n",
    "%matplotlib inline\n",
    "import matplotlib.pyplot as plt\n",
    "import seaborn as sns\n",
    "import plotly.express as px\n",
    "import datetime\n",
    "import warnings\n",
    "warnings.filterwarnings('ignore')"
   ]
  },
  {
   "cell_type": "markdown",
   "id": "0fb70e72-912a-466c-9314-fd5faff3fe63",
   "metadata": {},
   "source": [
    "## Thu thập dữ liệu"
   ]
  },
  {
   "cell_type": "markdown",
   "id": "ad44562d-ca02-49cf-a6b5-0af5cc3c0f32",
   "metadata": {},
   "source": [
    "Bộ dữ liệu cung cấp thông tin về tổng số ca mắc, tử vong và hồi phục do tác động của dịch COVID-19 từ các quốc gia trên thế giới\n",
    "- Nguồn dữ liệu: https://www.kaggle.com/imdevskp/corona-virus-report"
   ]
  },
  {
   "cell_type": "markdown",
   "id": "c0a639ca-5760-41e6-9a24-56543cd77926",
   "metadata": {},
   "source": [
    "## Khám phá dữ liệu"
   ]
  },
  {
   "cell_type": "markdown",
   "id": "b776d281-6342-494f-8332-5b0a6e74ee05",
   "metadata": {},
   "source": [
    "### Đọc dữ liệu từ file csv vào dataframe"
   ]
  },
  {
   "cell_type": "code",
   "execution_count": 3,
   "id": "42ae77a5-b56f-4317-b8a0-e43e2a899715",
   "metadata": {},
   "outputs": [
    {
     "data": {
      "text/html": [
       "<div>\n",
       "<style scoped>\n",
       "    .dataframe tbody tr th:only-of-type {\n",
       "        vertical-align: middle;\n",
       "    }\n",
       "\n",
       "    .dataframe tbody tr th {\n",
       "        vertical-align: top;\n",
       "    }\n",
       "\n",
       "    .dataframe thead th {\n",
       "        text-align: right;\n",
       "    }\n",
       "</style>\n",
       "<table border=\"1\" class=\"dataframe\">\n",
       "  <thead>\n",
       "    <tr style=\"text-align: right;\">\n",
       "      <th></th>\n",
       "      <th>Province/State</th>\n",
       "      <th>Country/Region</th>\n",
       "      <th>Lat</th>\n",
       "      <th>Long</th>\n",
       "      <th>Date</th>\n",
       "      <th>Confirmed</th>\n",
       "      <th>Deaths</th>\n",
       "      <th>Recovered</th>\n",
       "      <th>Active</th>\n",
       "      <th>WHO Region</th>\n",
       "    </tr>\n",
       "  </thead>\n",
       "  <tbody>\n",
       "    <tr>\n",
       "      <th>0</th>\n",
       "      <td>NaN</td>\n",
       "      <td>Afghanistan</td>\n",
       "      <td>33.93911</td>\n",
       "      <td>67.709953</td>\n",
       "      <td>2020-01-22</td>\n",
       "      <td>0</td>\n",
       "      <td>0</td>\n",
       "      <td>0</td>\n",
       "      <td>0</td>\n",
       "      <td>Eastern Mediterranean</td>\n",
       "    </tr>\n",
       "    <tr>\n",
       "      <th>1</th>\n",
       "      <td>NaN</td>\n",
       "      <td>Albania</td>\n",
       "      <td>41.15330</td>\n",
       "      <td>20.168300</td>\n",
       "      <td>2020-01-22</td>\n",
       "      <td>0</td>\n",
       "      <td>0</td>\n",
       "      <td>0</td>\n",
       "      <td>0</td>\n",
       "      <td>Europe</td>\n",
       "    </tr>\n",
       "    <tr>\n",
       "      <th>2</th>\n",
       "      <td>NaN</td>\n",
       "      <td>Algeria</td>\n",
       "      <td>28.03390</td>\n",
       "      <td>1.659600</td>\n",
       "      <td>2020-01-22</td>\n",
       "      <td>0</td>\n",
       "      <td>0</td>\n",
       "      <td>0</td>\n",
       "      <td>0</td>\n",
       "      <td>Africa</td>\n",
       "    </tr>\n",
       "    <tr>\n",
       "      <th>3</th>\n",
       "      <td>NaN</td>\n",
       "      <td>Andorra</td>\n",
       "      <td>42.50630</td>\n",
       "      <td>1.521800</td>\n",
       "      <td>2020-01-22</td>\n",
       "      <td>0</td>\n",
       "      <td>0</td>\n",
       "      <td>0</td>\n",
       "      <td>0</td>\n",
       "      <td>Europe</td>\n",
       "    </tr>\n",
       "    <tr>\n",
       "      <th>4</th>\n",
       "      <td>NaN</td>\n",
       "      <td>Angola</td>\n",
       "      <td>-11.20270</td>\n",
       "      <td>17.873900</td>\n",
       "      <td>2020-01-22</td>\n",
       "      <td>0</td>\n",
       "      <td>0</td>\n",
       "      <td>0</td>\n",
       "      <td>0</td>\n",
       "      <td>Africa</td>\n",
       "    </tr>\n",
       "  </tbody>\n",
       "</table>\n",
       "</div>"
      ],
      "text/plain": [
       "  Province/State Country/Region       Lat       Long        Date  Confirmed  \\\n",
       "0            NaN    Afghanistan  33.93911  67.709953  2020-01-22          0   \n",
       "1            NaN        Albania  41.15330  20.168300  2020-01-22          0   \n",
       "2            NaN        Algeria  28.03390   1.659600  2020-01-22          0   \n",
       "3            NaN        Andorra  42.50630   1.521800  2020-01-22          0   \n",
       "4            NaN         Angola -11.20270  17.873900  2020-01-22          0   \n",
       "\n",
       "   Deaths  Recovered  Active             WHO Region  \n",
       "0       0          0       0  Eastern Mediterranean  \n",
       "1       0          0       0                 Europe  \n",
       "2       0          0       0                 Africa  \n",
       "3       0          0       0                 Europe  \n",
       "4       0          0       0                 Africa  "
      ]
     },
     "execution_count": 3,
     "metadata": {},
     "output_type": "execute_result"
    }
   ],
   "source": [
    "df = pd.read_csv(\"Data/covid_19_clean_complete.csv\")\n",
    "df.head()"
   ]
  },
  {
   "cell_type": "markdown",
   "id": "de2118dd-b282-473f-9f46-cadf12802a4d",
   "metadata": {},
   "source": [
    "### Số dòng và số cột của dữ liệu"
   ]
  },
  {
   "cell_type": "markdown",
   "id": "4edfcb5f-4084-4c69-9907-150378343106",
   "metadata": {},
   "source": [
    "Số dòng và số cột của dữ liệu sẽ được tính và lưu vào hai biến `num_rows` và `num_cols`."
   ]
  },
  {
   "cell_type": "code",
   "execution_count": 3,
   "id": "1560718a-371b-43a7-a3ee-8f8446097ee9",
   "metadata": {},
   "outputs": [
    {
     "name": "stdout",
     "output_type": "stream",
     "text": [
      "Dữ liệu có 49068 dòng và 10 cột\n"
     ]
    }
   ],
   "source": [
    "num_rows, num_cols = df.shape\n",
    "print(\"Dữ liệu có {} dòng và {} cột\".format(num_rows, num_cols))"
   ]
  },
  {
   "cell_type": "markdown",
   "id": "65fa2e11-bfba-4025-96aa-42bbb998c850",
   "metadata": {},
   "source": [
    "### Mỗi dòng có ý nghĩa gì? Có vấn đề các dòng có ý nghĩa khác nhau không?"
   ]
  },
  {
   "cell_type": "markdown",
   "id": "cc00296f-3c7b-46e5-80b4-e61d8abfe67f",
   "metadata": {},
   "source": [
    "- Mỗi dòng mang thông tin về các trường hợp COVID-19 đã được xác nhận, tử vong và đã phục hồi từ các quốc gia khác nhau kể từ ngày 22/01/2020 đến ngày 27/07/2020\n",
    "- Có vẻ không có dòng nào có ý nghĩa khác so với các dòng còn lại."
   ]
  },
  {
   "cell_type": "markdown",
   "id": "d0990ceb-87a6-49df-9112-ec3c29206a73",
   "metadata": {},
   "source": [
    "### Dữ liệu có các dòng bị lặp không?"
   ]
  },
  {
   "cell_type": "code",
   "execution_count": 4,
   "id": "7994ff40-5ede-429b-a9e8-9dbbf3872e1a",
   "metadata": {},
   "outputs": [
    {
     "name": "stdout",
     "output_type": "stream",
     "text": [
      "Dữ liệu có số dòng bị lặp: 0\n"
     ]
    }
   ],
   "source": [
    "print(\"Dữ liệu có số dòng bị lặp: {}\".format(df.duplicated().sum()))"
   ]
  },
  {
   "cell_type": "markdown",
   "id": "7889bb9b-66fe-4e07-98db-fbecff9528af",
   "metadata": {},
   "source": [
    "### Mỗi cột có ý nghĩa gì?"
   ]
  },
  {
   "cell_type": "markdown",
   "id": "08d779aa-bb79-4756-a3f9-df6870643461",
   "metadata": {},
   "source": [
    "- Province/State: Tỉnh hoặc bang của quốc gia\n",
    "- Country/Region: Quốc gia hoặc vùng lãnh thổ\n",
    "- Lat: vĩ độ của vị trí đó\n",
    "- Long: kinh độ của vị trí đó\n",
    "- Date: Ngày được báo cáo\n",
    "- Confirmed: Tổng số ca nhiễm đã được xác nhận cho đến ngày được báo cáo\n",
    "- Deaths: Tổng số ca tử vong cho đến ngày được báo cáo\n",
    "- Recovered: Tổng số ca hồi phục cho đến ngày được báo cáo\n",
    "- Active: Tổng số ca mắc còn lại cho đến ngày được báo cáo\n",
    "- WHO Region: Khu vực WHO phụ trách"
   ]
  },
  {
   "cell_type": "markdown",
   "id": "87a3aff2-e999-424d-8ee5-fe8191da88a1",
   "metadata": {},
   "source": [
    "### Mỗi cột hiện đang có kiểu dữ liệu gì?"
   ]
  },
  {
   "cell_type": "code",
   "execution_count": 5,
   "id": "717f4163-5c9f-4133-931b-068964be5c0f",
   "metadata": {},
   "outputs": [
    {
     "data": {
      "text/plain": [
       "Province/State     object\n",
       "Country/Region     object\n",
       "Lat               float64\n",
       "Long              float64\n",
       "Date               object\n",
       "Confirmed           int64\n",
       "Deaths              int64\n",
       "Recovered           int64\n",
       "Active              int64\n",
       "WHO Region         object\n",
       "dtype: object"
      ]
     },
     "execution_count": 5,
     "metadata": {},
     "output_type": "execute_result"
    }
   ],
   "source": [
    "df.dtypes"
   ]
  },
  {
   "cell_type": "markdown",
   "id": "08c496d2",
   "metadata": {},
   "source": [
    "Ta thấy cột `Date` có kiểu dữ liệu là `object`, vì vậy ta phải chuyển kiểu dữ liệu của cột `Date` từ `object` sang `datetime`"
   ]
  },
  {
   "cell_type": "code",
   "execution_count": 6,
   "id": "423959de-6e73-40ea-97d9-2d7e908dd016",
   "metadata": {},
   "outputs": [],
   "source": [
    "df['Date'] = pd.to_datetime(df['Date'], format = \"%Y-%m-%d\")"
   ]
  },
  {
   "cell_type": "code",
   "execution_count": 7,
   "id": "045e196b",
   "metadata": {},
   "outputs": [
    {
     "data": {
      "text/plain": [
       "Province/State            object\n",
       "Country/Region            object\n",
       "Lat                      float64\n",
       "Long                     float64\n",
       "Date              datetime64[ns]\n",
       "Confirmed                  int64\n",
       "Deaths                     int64\n",
       "Recovered                  int64\n",
       "Active                     int64\n",
       "WHO Region                object\n",
       "dtype: object"
      ]
     },
     "execution_count": 7,
     "metadata": {},
     "output_type": "execute_result"
    }
   ],
   "source": [
    "df.dtypes"
   ]
  },
  {
   "cell_type": "markdown",
   "id": "5c602f87-7c1d-4db2-8508-7cbbff354e43",
   "metadata": {},
   "source": [
    "### Với mỗi cột có kiểu dữ liệu dạng số (numerical), các giá trị được phân bố như thế nào?"
   ]
  },
  {
   "cell_type": "markdown",
   "id": "6ae277a6",
   "metadata": {},
   "source": [
    "Ta sẽ xếp cột datetime vào nhóm numeric luôn. Hiện có 7 cột có vẻ là thuộc nhóm numeric: \"Lat\", \"Long\", \"Date\", \"Confirmed\", \"Deaths\", \"Recovered\", \"Active\"."
   ]
  },
  {
   "cell_type": "code",
   "execution_count": 9,
   "id": "7db338b2",
   "metadata": {},
   "outputs": [
    {
     "data": {
      "text/html": [
       "<div>\n",
       "<style scoped>\n",
       "    .dataframe tbody tr th:only-of-type {\n",
       "        vertical-align: middle;\n",
       "    }\n",
       "\n",
       "    .dataframe tbody tr th {\n",
       "        vertical-align: top;\n",
       "    }\n",
       "\n",
       "    .dataframe thead th {\n",
       "        text-align: right;\n",
       "    }\n",
       "</style>\n",
       "<table border=\"1\" class=\"dataframe\">\n",
       "  <thead>\n",
       "    <tr style=\"text-align: right;\">\n",
       "      <th></th>\n",
       "      <th>Lat</th>\n",
       "      <th>Long</th>\n",
       "      <th>Date</th>\n",
       "      <th>Confirmed</th>\n",
       "      <th>Deaths</th>\n",
       "      <th>Recovered</th>\n",
       "      <th>Active</th>\n",
       "    </tr>\n",
       "  </thead>\n",
       "  <tbody>\n",
       "    <tr>\n",
       "      <th>missing_ratio</th>\n",
       "      <td>0.0000</td>\n",
       "      <td>0.000</td>\n",
       "      <td>0.0</td>\n",
       "      <td>0.0</td>\n",
       "      <td>0.0</td>\n",
       "      <td>0.0</td>\n",
       "      <td>0.0</td>\n",
       "    </tr>\n",
       "    <tr>\n",
       "      <th>min</th>\n",
       "      <td>-51.7963</td>\n",
       "      <td>-135.000</td>\n",
       "      <td>2020-01-22 00:00:00</td>\n",
       "      <td>0.0</td>\n",
       "      <td>0.0</td>\n",
       "      <td>0.0</td>\n",
       "      <td>-14.0</td>\n",
       "    </tr>\n",
       "    <tr>\n",
       "      <th>max</th>\n",
       "      <td>71.7069</td>\n",
       "      <td>178.065</td>\n",
       "      <td>2020-07-27 00:00:00</td>\n",
       "      <td>4290259.0</td>\n",
       "      <td>148011.0</td>\n",
       "      <td>1846641.0</td>\n",
       "      <td>2816444.0</td>\n",
       "    </tr>\n",
       "  </tbody>\n",
       "</table>\n",
       "</div>"
      ],
      "text/plain": [
       "                   Lat     Long                 Date  Confirmed    Deaths  \\\n",
       "missing_ratio   0.0000    0.000                  0.0        0.0       0.0   \n",
       "min           -51.7963 -135.000  2020-01-22 00:00:00        0.0       0.0   \n",
       "max            71.7069  178.065  2020-07-27 00:00:00  4290259.0  148011.0   \n",
       "\n",
       "               Recovered     Active  \n",
       "missing_ratio        0.0        0.0  \n",
       "min                  0.0      -14.0  \n",
       "max            1846641.0  2816444.0  "
      ]
     },
     "execution_count": 9,
     "metadata": {},
     "output_type": "execute_result"
    }
   ],
   "source": [
    "nume_df = df[[\"Lat\", \"Long\", \"Date\", \"Confirmed\", \"Deaths\", \"Recovered\", \"Active\"]]\n",
    "def missing_ratio(s):\n",
    "    return s.isna().mean() * 100\n",
    "nume_col_profiles_df = nume_df.agg([missing_ratio, min, max])\n",
    "nume_col_profiles_df"
   ]
  },
  {
   "cell_type": "markdown",
   "id": "a77b928b",
   "metadata": {},
   "source": [
    "Ta thấy không có giá trị thiếu. Cột `Active` có giá trị min là số âm ==> Cột `Active` có giá trị bất thường. Ta xét giá trị của cột `Active` <0"
   ]
  },
  {
   "cell_type": "code",
   "execution_count": 10,
   "id": "d50ce116",
   "metadata": {},
   "outputs": [
    {
     "data": {
      "text/html": [
       "<div>\n",
       "<style scoped>\n",
       "    .dataframe tbody tr th:only-of-type {\n",
       "        vertical-align: middle;\n",
       "    }\n",
       "\n",
       "    .dataframe tbody tr th {\n",
       "        vertical-align: top;\n",
       "    }\n",
       "\n",
       "    .dataframe thead th {\n",
       "        text-align: right;\n",
       "    }\n",
       "</style>\n",
       "<table border=\"1\" class=\"dataframe\">\n",
       "  <thead>\n",
       "    <tr style=\"text-align: right;\">\n",
       "      <th></th>\n",
       "      <th>Province/State</th>\n",
       "      <th>Country/Region</th>\n",
       "      <th>Lat</th>\n",
       "      <th>Long</th>\n",
       "      <th>Date</th>\n",
       "      <th>Confirmed</th>\n",
       "      <th>Deaths</th>\n",
       "      <th>Recovered</th>\n",
       "      <th>Active</th>\n",
       "      <th>WHO Region</th>\n",
       "    </tr>\n",
       "  </thead>\n",
       "  <tbody>\n",
       "    <tr>\n",
       "      <th>16238</th>\n",
       "      <td>Hainan</td>\n",
       "      <td>China</td>\n",
       "      <td>19.195900</td>\n",
       "      <td>109.745300</td>\n",
       "      <td>2020-03-24</td>\n",
       "      <td>168</td>\n",
       "      <td>6</td>\n",
       "      <td>168</td>\n",
       "      <td>-6</td>\n",
       "      <td>Western Pacific</td>\n",
       "    </tr>\n",
       "    <tr>\n",
       "      <th>16499</th>\n",
       "      <td>Hainan</td>\n",
       "      <td>China</td>\n",
       "      <td>19.195900</td>\n",
       "      <td>109.745300</td>\n",
       "      <td>2020-03-25</td>\n",
       "      <td>168</td>\n",
       "      <td>6</td>\n",
       "      <td>168</td>\n",
       "      <td>-6</td>\n",
       "      <td>Western Pacific</td>\n",
       "    </tr>\n",
       "    <tr>\n",
       "      <th>16760</th>\n",
       "      <td>Hainan</td>\n",
       "      <td>China</td>\n",
       "      <td>19.195900</td>\n",
       "      <td>109.745300</td>\n",
       "      <td>2020-03-26</td>\n",
       "      <td>168</td>\n",
       "      <td>6</td>\n",
       "      <td>168</td>\n",
       "      <td>-6</td>\n",
       "      <td>Western Pacific</td>\n",
       "    </tr>\n",
       "    <tr>\n",
       "      <th>17021</th>\n",
       "      <td>Hainan</td>\n",
       "      <td>China</td>\n",
       "      <td>19.195900</td>\n",
       "      <td>109.745300</td>\n",
       "      <td>2020-03-27</td>\n",
       "      <td>168</td>\n",
       "      <td>6</td>\n",
       "      <td>168</td>\n",
       "      <td>-6</td>\n",
       "      <td>Western Pacific</td>\n",
       "    </tr>\n",
       "    <tr>\n",
       "      <th>17282</th>\n",
       "      <td>Hainan</td>\n",
       "      <td>China</td>\n",
       "      <td>19.195900</td>\n",
       "      <td>109.745300</td>\n",
       "      <td>2020-03-28</td>\n",
       "      <td>168</td>\n",
       "      <td>6</td>\n",
       "      <td>168</td>\n",
       "      <td>-6</td>\n",
       "      <td>Western Pacific</td>\n",
       "    </tr>\n",
       "    <tr>\n",
       "      <th>17543</th>\n",
       "      <td>Hainan</td>\n",
       "      <td>China</td>\n",
       "      <td>19.195900</td>\n",
       "      <td>109.745300</td>\n",
       "      <td>2020-03-29</td>\n",
       "      <td>168</td>\n",
       "      <td>6</td>\n",
       "      <td>168</td>\n",
       "      <td>-6</td>\n",
       "      <td>Western Pacific</td>\n",
       "    </tr>\n",
       "    <tr>\n",
       "      <th>17804</th>\n",
       "      <td>Hainan</td>\n",
       "      <td>China</td>\n",
       "      <td>19.195900</td>\n",
       "      <td>109.745300</td>\n",
       "      <td>2020-03-30</td>\n",
       "      <td>168</td>\n",
       "      <td>6</td>\n",
       "      <td>168</td>\n",
       "      <td>-6</td>\n",
       "      <td>Western Pacific</td>\n",
       "    </tr>\n",
       "    <tr>\n",
       "      <th>18065</th>\n",
       "      <td>Hainan</td>\n",
       "      <td>China</td>\n",
       "      <td>19.195900</td>\n",
       "      <td>109.745300</td>\n",
       "      <td>2020-03-31</td>\n",
       "      <td>168</td>\n",
       "      <td>6</td>\n",
       "      <td>168</td>\n",
       "      <td>-6</td>\n",
       "      <td>Western Pacific</td>\n",
       "    </tr>\n",
       "    <tr>\n",
       "      <th>18326</th>\n",
       "      <td>Hainan</td>\n",
       "      <td>China</td>\n",
       "      <td>19.195900</td>\n",
       "      <td>109.745300</td>\n",
       "      <td>2020-04-01</td>\n",
       "      <td>168</td>\n",
       "      <td>6</td>\n",
       "      <td>168</td>\n",
       "      <td>-6</td>\n",
       "      <td>Western Pacific</td>\n",
       "    </tr>\n",
       "    <tr>\n",
       "      <th>32059</th>\n",
       "      <td>Channel Islands</td>\n",
       "      <td>United Kingdom</td>\n",
       "      <td>49.372300</td>\n",
       "      <td>-2.364400</td>\n",
       "      <td>2020-05-23</td>\n",
       "      <td>558</td>\n",
       "      <td>45</td>\n",
       "      <td>515</td>\n",
       "      <td>-2</td>\n",
       "      <td>Europe</td>\n",
       "    </tr>\n",
       "    <tr>\n",
       "      <th>32320</th>\n",
       "      <td>Channel Islands</td>\n",
       "      <td>United Kingdom</td>\n",
       "      <td>49.372300</td>\n",
       "      <td>-2.364400</td>\n",
       "      <td>2020-05-24</td>\n",
       "      <td>558</td>\n",
       "      <td>45</td>\n",
       "      <td>517</td>\n",
       "      <td>-4</td>\n",
       "      <td>Europe</td>\n",
       "    </tr>\n",
       "    <tr>\n",
       "      <th>32581</th>\n",
       "      <td>Channel Islands</td>\n",
       "      <td>United Kingdom</td>\n",
       "      <td>49.372300</td>\n",
       "      <td>-2.364400</td>\n",
       "      <td>2020-05-25</td>\n",
       "      <td>559</td>\n",
       "      <td>45</td>\n",
       "      <td>517</td>\n",
       "      <td>-3</td>\n",
       "      <td>Europe</td>\n",
       "    </tr>\n",
       "    <tr>\n",
       "      <th>33886</th>\n",
       "      <td>Channel Islands</td>\n",
       "      <td>United Kingdom</td>\n",
       "      <td>49.372300</td>\n",
       "      <td>-2.364400</td>\n",
       "      <td>2020-05-30</td>\n",
       "      <td>560</td>\n",
       "      <td>45</td>\n",
       "      <td>525</td>\n",
       "      <td>-10</td>\n",
       "      <td>Europe</td>\n",
       "    </tr>\n",
       "    <tr>\n",
       "      <th>34147</th>\n",
       "      <td>Channel Islands</td>\n",
       "      <td>United Kingdom</td>\n",
       "      <td>49.372300</td>\n",
       "      <td>-2.364400</td>\n",
       "      <td>2020-05-31</td>\n",
       "      <td>560</td>\n",
       "      <td>45</td>\n",
       "      <td>528</td>\n",
       "      <td>-13</td>\n",
       "      <td>Europe</td>\n",
       "    </tr>\n",
       "    <tr>\n",
       "      <th>34408</th>\n",
       "      <td>Channel Islands</td>\n",
       "      <td>United Kingdom</td>\n",
       "      <td>49.372300</td>\n",
       "      <td>-2.364400</td>\n",
       "      <td>2020-06-01</td>\n",
       "      <td>560</td>\n",
       "      <td>45</td>\n",
       "      <td>528</td>\n",
       "      <td>-13</td>\n",
       "      <td>Europe</td>\n",
       "    </tr>\n",
       "    <tr>\n",
       "      <th>34669</th>\n",
       "      <td>Channel Islands</td>\n",
       "      <td>United Kingdom</td>\n",
       "      <td>49.372300</td>\n",
       "      <td>-2.364400</td>\n",
       "      <td>2020-06-02</td>\n",
       "      <td>560</td>\n",
       "      <td>46</td>\n",
       "      <td>528</td>\n",
       "      <td>-14</td>\n",
       "      <td>Europe</td>\n",
       "    </tr>\n",
       "    <tr>\n",
       "      <th>40080</th>\n",
       "      <td>NaN</td>\n",
       "      <td>Liechtenstein</td>\n",
       "      <td>47.140000</td>\n",
       "      <td>9.550000</td>\n",
       "      <td>2020-06-23</td>\n",
       "      <td>82</td>\n",
       "      <td>2</td>\n",
       "      <td>81</td>\n",
       "      <td>-1</td>\n",
       "      <td>Europe</td>\n",
       "    </tr>\n",
       "    <tr>\n",
       "      <th>47192</th>\n",
       "      <td>NaN</td>\n",
       "      <td>Uganda</td>\n",
       "      <td>1.373333</td>\n",
       "      <td>32.290275</td>\n",
       "      <td>2020-07-20</td>\n",
       "      <td>1069</td>\n",
       "      <td>0</td>\n",
       "      <td>1071</td>\n",
       "      <td>-2</td>\n",
       "      <td>Africa</td>\n",
       "    </tr>\n",
       "  </tbody>\n",
       "</table>\n",
       "</div>"
      ],
      "text/plain": [
       "        Province/State  Country/Region        Lat        Long       Date  \\\n",
       "16238           Hainan           China  19.195900  109.745300 2020-03-24   \n",
       "16499           Hainan           China  19.195900  109.745300 2020-03-25   \n",
       "16760           Hainan           China  19.195900  109.745300 2020-03-26   \n",
       "17021           Hainan           China  19.195900  109.745300 2020-03-27   \n",
       "17282           Hainan           China  19.195900  109.745300 2020-03-28   \n",
       "17543           Hainan           China  19.195900  109.745300 2020-03-29   \n",
       "17804           Hainan           China  19.195900  109.745300 2020-03-30   \n",
       "18065           Hainan           China  19.195900  109.745300 2020-03-31   \n",
       "18326           Hainan           China  19.195900  109.745300 2020-04-01   \n",
       "32059  Channel Islands  United Kingdom  49.372300   -2.364400 2020-05-23   \n",
       "32320  Channel Islands  United Kingdom  49.372300   -2.364400 2020-05-24   \n",
       "32581  Channel Islands  United Kingdom  49.372300   -2.364400 2020-05-25   \n",
       "33886  Channel Islands  United Kingdom  49.372300   -2.364400 2020-05-30   \n",
       "34147  Channel Islands  United Kingdom  49.372300   -2.364400 2020-05-31   \n",
       "34408  Channel Islands  United Kingdom  49.372300   -2.364400 2020-06-01   \n",
       "34669  Channel Islands  United Kingdom  49.372300   -2.364400 2020-06-02   \n",
       "40080              NaN   Liechtenstein  47.140000    9.550000 2020-06-23   \n",
       "47192              NaN          Uganda   1.373333   32.290275 2020-07-20   \n",
       "\n",
       "       Confirmed  Deaths  Recovered  Active       WHO Region  \n",
       "16238        168       6        168      -6  Western Pacific  \n",
       "16499        168       6        168      -6  Western Pacific  \n",
       "16760        168       6        168      -6  Western Pacific  \n",
       "17021        168       6        168      -6  Western Pacific  \n",
       "17282        168       6        168      -6  Western Pacific  \n",
       "17543        168       6        168      -6  Western Pacific  \n",
       "17804        168       6        168      -6  Western Pacific  \n",
       "18065        168       6        168      -6  Western Pacific  \n",
       "18326        168       6        168      -6  Western Pacific  \n",
       "32059        558      45        515      -2           Europe  \n",
       "32320        558      45        517      -4           Europe  \n",
       "32581        559      45        517      -3           Europe  \n",
       "33886        560      45        525     -10           Europe  \n",
       "34147        560      45        528     -13           Europe  \n",
       "34408        560      45        528     -13           Europe  \n",
       "34669        560      46        528     -14           Europe  \n",
       "40080         82       2         81      -1           Europe  \n",
       "47192       1069       0       1071      -2           Africa  "
      ]
     },
     "execution_count": 10,
     "metadata": {},
     "output_type": "execute_result"
    }
   ],
   "source": [
    "df[df['Active']<0]"
   ]
  },
  {
   "cell_type": "markdown",
   "id": "26d6037b",
   "metadata": {},
   "source": [
    "Nhìn vào dữ ta thấy cột `Recovered` có giá trị >= cột `Confirmed` trong khi cột `Deaths` lại có giá trị >=0 nên giá trị cột `Active` có giá trị âm. Ta thực hiện tiền xử lý chuyển giá trị âm thành 0"
   ]
  },
  {
   "cell_type": "code",
   "execution_count": 11,
   "id": "57603450",
   "metadata": {},
   "outputs": [],
   "source": [
    "df['Active'][df['Active']<0]=0"
   ]
  },
  {
   "cell_type": "markdown",
   "id": "e97cefc6-9808-4704-9719-a8aff8d28d63",
   "metadata": {},
   "source": [
    "### Với mỗi cột có kiểu dữ liệu dạng categorical, các giá trị được phân bố như thế nào? "
   ]
  },
  {
   "cell_type": "markdown",
   "id": "50fcfc24",
   "metadata": {},
   "source": [
    "Hiện có 3 cột thuộc nhóm categorical: \"Province/State\", \"Country/Region\", \"WHO Region\""
   ]
  },
  {
   "cell_type": "code",
   "execution_count": 12,
   "id": "8e24fd5c",
   "metadata": {},
   "outputs": [
    {
     "data": {
      "text/html": [
       "<div>\n",
       "<style scoped>\n",
       "    .dataframe tbody tr th:only-of-type {\n",
       "        vertical-align: middle;\n",
       "    }\n",
       "\n",
       "    .dataframe tbody tr th {\n",
       "        vertical-align: top;\n",
       "    }\n",
       "\n",
       "    .dataframe thead th {\n",
       "        text-align: right;\n",
       "    }\n",
       "</style>\n",
       "<table border=\"1\" class=\"dataframe\">\n",
       "  <thead>\n",
       "    <tr style=\"text-align: right;\">\n",
       "      <th></th>\n",
       "      <th>Province/State</th>\n",
       "      <th>Country/Region</th>\n",
       "      <th>WHO Region</th>\n",
       "    </tr>\n",
       "  </thead>\n",
       "  <tbody>\n",
       "    <tr>\n",
       "      <th>missing_ratio</th>\n",
       "      <td>70.114943</td>\n",
       "      <td>0.0</td>\n",
       "      <td>0.0</td>\n",
       "    </tr>\n",
       "    <tr>\n",
       "      <th>num_diff_vals</th>\n",
       "      <td>78</td>\n",
       "      <td>187</td>\n",
       "      <td>6</td>\n",
       "    </tr>\n",
       "    <tr>\n",
       "      <th>diff_vals</th>\n",
       "      <td>{'Mayotte': 188, 'Guangdong': 188, 'Manitoba':...</td>\n",
       "      <td>{'China': 6204, 'Canada': 2256, 'France': 2068...</td>\n",
       "      <td>{'Europe': 15040, 'Western Pacific': 10340, 'A...</td>\n",
       "    </tr>\n",
       "  </tbody>\n",
       "</table>\n",
       "</div>"
      ],
      "text/plain": [
       "                                                  Province/State  \\\n",
       "missing_ratio                                          70.114943   \n",
       "num_diff_vals                                                 78   \n",
       "diff_vals      {'Mayotte': 188, 'Guangdong': 188, 'Manitoba':...   \n",
       "\n",
       "                                                  Country/Region  \\\n",
       "missing_ratio                                                0.0   \n",
       "num_diff_vals                                                187   \n",
       "diff_vals      {'China': 6204, 'Canada': 2256, 'France': 2068...   \n",
       "\n",
       "                                                      WHO Region  \n",
       "missing_ratio                                                0.0  \n",
       "num_diff_vals                                                  6  \n",
       "diff_vals      {'Europe': 15040, 'Western Pacific': 10340, 'A...  "
      ]
     },
     "execution_count": 12,
     "metadata": {},
     "output_type": "execute_result"
    }
   ],
   "source": [
    "cate_df= df[[\"Province/State\", \"Country/Region\", \"WHO Region\"]]\n",
    "def num_diff_vals(s):\n",
    "    return s.drop_duplicates().count()\n",
    "def diff_vals(s):\n",
    "    return dict(s.value_counts())\n",
    "cate_col_profiles_df = cate_df.agg([missing_ratio,num_diff_vals,diff_vals])\n",
    "cate_col_profiles_df"
   ]
  },
  {
   "cell_type": "markdown",
   "id": "84165845",
   "metadata": {},
   "source": [
    "Ta thấy cột `Province/State` có giá trị NaN với tỉ lệ rất cao. Ta thực hiện tiền xử lý thay thế bằng giá trị 'Unknown'"
   ]
  },
  {
   "cell_type": "code",
   "execution_count": 13,
   "id": "754af626",
   "metadata": {},
   "outputs": [
    {
     "data": {
      "text/html": [
       "<div>\n",
       "<style scoped>\n",
       "    .dataframe tbody tr th:only-of-type {\n",
       "        vertical-align: middle;\n",
       "    }\n",
       "\n",
       "    .dataframe tbody tr th {\n",
       "        vertical-align: top;\n",
       "    }\n",
       "\n",
       "    .dataframe thead th {\n",
       "        text-align: right;\n",
       "    }\n",
       "</style>\n",
       "<table border=\"1\" class=\"dataframe\">\n",
       "  <thead>\n",
       "    <tr style=\"text-align: right;\">\n",
       "      <th></th>\n",
       "      <th>Province/State</th>\n",
       "      <th>Country/Region</th>\n",
       "      <th>Lat</th>\n",
       "      <th>Long</th>\n",
       "      <th>Date</th>\n",
       "      <th>Confirmed</th>\n",
       "      <th>Deaths</th>\n",
       "      <th>Recovered</th>\n",
       "      <th>Active</th>\n",
       "      <th>WHO Region</th>\n",
       "    </tr>\n",
       "  </thead>\n",
       "  <tbody>\n",
       "    <tr>\n",
       "      <th>0</th>\n",
       "      <td>Unknown</td>\n",
       "      <td>Afghanistan</td>\n",
       "      <td>33.939110</td>\n",
       "      <td>67.709953</td>\n",
       "      <td>2020-01-22</td>\n",
       "      <td>0</td>\n",
       "      <td>0</td>\n",
       "      <td>0</td>\n",
       "      <td>0</td>\n",
       "      <td>Eastern Mediterranean</td>\n",
       "    </tr>\n",
       "    <tr>\n",
       "      <th>1</th>\n",
       "      <td>Unknown</td>\n",
       "      <td>Albania</td>\n",
       "      <td>41.153300</td>\n",
       "      <td>20.168300</td>\n",
       "      <td>2020-01-22</td>\n",
       "      <td>0</td>\n",
       "      <td>0</td>\n",
       "      <td>0</td>\n",
       "      <td>0</td>\n",
       "      <td>Europe</td>\n",
       "    </tr>\n",
       "    <tr>\n",
       "      <th>2</th>\n",
       "      <td>Unknown</td>\n",
       "      <td>Algeria</td>\n",
       "      <td>28.033900</td>\n",
       "      <td>1.659600</td>\n",
       "      <td>2020-01-22</td>\n",
       "      <td>0</td>\n",
       "      <td>0</td>\n",
       "      <td>0</td>\n",
       "      <td>0</td>\n",
       "      <td>Africa</td>\n",
       "    </tr>\n",
       "    <tr>\n",
       "      <th>3</th>\n",
       "      <td>Unknown</td>\n",
       "      <td>Andorra</td>\n",
       "      <td>42.506300</td>\n",
       "      <td>1.521800</td>\n",
       "      <td>2020-01-22</td>\n",
       "      <td>0</td>\n",
       "      <td>0</td>\n",
       "      <td>0</td>\n",
       "      <td>0</td>\n",
       "      <td>Europe</td>\n",
       "    </tr>\n",
       "    <tr>\n",
       "      <th>4</th>\n",
       "      <td>Unknown</td>\n",
       "      <td>Angola</td>\n",
       "      <td>-11.202700</td>\n",
       "      <td>17.873900</td>\n",
       "      <td>2020-01-22</td>\n",
       "      <td>0</td>\n",
       "      <td>0</td>\n",
       "      <td>0</td>\n",
       "      <td>0</td>\n",
       "      <td>Africa</td>\n",
       "    </tr>\n",
       "    <tr>\n",
       "      <th>...</th>\n",
       "      <td>...</td>\n",
       "      <td>...</td>\n",
       "      <td>...</td>\n",
       "      <td>...</td>\n",
       "      <td>...</td>\n",
       "      <td>...</td>\n",
       "      <td>...</td>\n",
       "      <td>...</td>\n",
       "      <td>...</td>\n",
       "      <td>...</td>\n",
       "    </tr>\n",
       "    <tr>\n",
       "      <th>49063</th>\n",
       "      <td>Unknown</td>\n",
       "      <td>Sao Tome and Principe</td>\n",
       "      <td>0.186400</td>\n",
       "      <td>6.613100</td>\n",
       "      <td>2020-07-27</td>\n",
       "      <td>865</td>\n",
       "      <td>14</td>\n",
       "      <td>734</td>\n",
       "      <td>117</td>\n",
       "      <td>Africa</td>\n",
       "    </tr>\n",
       "    <tr>\n",
       "      <th>49064</th>\n",
       "      <td>Unknown</td>\n",
       "      <td>Yemen</td>\n",
       "      <td>15.552727</td>\n",
       "      <td>48.516388</td>\n",
       "      <td>2020-07-27</td>\n",
       "      <td>1691</td>\n",
       "      <td>483</td>\n",
       "      <td>833</td>\n",
       "      <td>375</td>\n",
       "      <td>Eastern Mediterranean</td>\n",
       "    </tr>\n",
       "    <tr>\n",
       "      <th>49065</th>\n",
       "      <td>Unknown</td>\n",
       "      <td>Comoros</td>\n",
       "      <td>-11.645500</td>\n",
       "      <td>43.333300</td>\n",
       "      <td>2020-07-27</td>\n",
       "      <td>354</td>\n",
       "      <td>7</td>\n",
       "      <td>328</td>\n",
       "      <td>19</td>\n",
       "      <td>Africa</td>\n",
       "    </tr>\n",
       "    <tr>\n",
       "      <th>49066</th>\n",
       "      <td>Unknown</td>\n",
       "      <td>Tajikistan</td>\n",
       "      <td>38.861000</td>\n",
       "      <td>71.276100</td>\n",
       "      <td>2020-07-27</td>\n",
       "      <td>7235</td>\n",
       "      <td>60</td>\n",
       "      <td>6028</td>\n",
       "      <td>1147</td>\n",
       "      <td>Europe</td>\n",
       "    </tr>\n",
       "    <tr>\n",
       "      <th>49067</th>\n",
       "      <td>Unknown</td>\n",
       "      <td>Lesotho</td>\n",
       "      <td>-29.610000</td>\n",
       "      <td>28.233600</td>\n",
       "      <td>2020-07-27</td>\n",
       "      <td>505</td>\n",
       "      <td>12</td>\n",
       "      <td>128</td>\n",
       "      <td>365</td>\n",
       "      <td>Africa</td>\n",
       "    </tr>\n",
       "  </tbody>\n",
       "</table>\n",
       "<p>49068 rows × 10 columns</p>\n",
       "</div>"
      ],
      "text/plain": [
       "      Province/State         Country/Region        Lat       Long       Date  \\\n",
       "0            Unknown            Afghanistan  33.939110  67.709953 2020-01-22   \n",
       "1            Unknown                Albania  41.153300  20.168300 2020-01-22   \n",
       "2            Unknown                Algeria  28.033900   1.659600 2020-01-22   \n",
       "3            Unknown                Andorra  42.506300   1.521800 2020-01-22   \n",
       "4            Unknown                 Angola -11.202700  17.873900 2020-01-22   \n",
       "...              ...                    ...        ...        ...        ...   \n",
       "49063        Unknown  Sao Tome and Principe   0.186400   6.613100 2020-07-27   \n",
       "49064        Unknown                  Yemen  15.552727  48.516388 2020-07-27   \n",
       "49065        Unknown                Comoros -11.645500  43.333300 2020-07-27   \n",
       "49066        Unknown             Tajikistan  38.861000  71.276100 2020-07-27   \n",
       "49067        Unknown                Lesotho -29.610000  28.233600 2020-07-27   \n",
       "\n",
       "       Confirmed  Deaths  Recovered  Active             WHO Region  \n",
       "0              0       0          0       0  Eastern Mediterranean  \n",
       "1              0       0          0       0                 Europe  \n",
       "2              0       0          0       0                 Africa  \n",
       "3              0       0          0       0                 Europe  \n",
       "4              0       0          0       0                 Africa  \n",
       "...          ...     ...        ...     ...                    ...  \n",
       "49063        865      14        734     117                 Africa  \n",
       "49064       1691     483        833     375  Eastern Mediterranean  \n",
       "49065        354       7        328      19                 Africa  \n",
       "49066       7235      60       6028    1147                 Europe  \n",
       "49067        505      12        128     365                 Africa  \n",
       "\n",
       "[49068 rows x 10 columns]"
      ]
     },
     "execution_count": 13,
     "metadata": {},
     "output_type": "execute_result"
    }
   ],
   "source": [
    "df.isnull().sum()\n",
    "df['Province/State'].fillna('Unknown',inplace = True)\n",
    "df\n"
   ]
  },
  {
   "cell_type": "markdown",
   "id": "49a4b5f0-3d93-4467-abec-487203b0e92f",
   "metadata": {},
   "source": [
    "## Đưa ra câu hỏi cần trả lời"
   ]
  },
  {
   "cell_type": "markdown",
   "id": "0027b0ba-f79d-4196-8655-6981646a7c87",
   "metadata": {},
   "source": [
    "### 1. Top 10 quốc gia có số ca nhiễm cao nhất thế giới ? "
   ]
  },
  {
   "cell_type": "markdown",
   "id": "c33a0518-7638-4772-a50e-140553ec3de6",
   "metadata": {},
   "source": [
    "Trả lời được câu hỏi này, ta sẽ biết được tình hình kiểm soát dịch của các quốc gia trên thế giới như thế nào."
   ]
  },
  {
   "cell_type": "markdown",
   "id": "5242a395",
   "metadata": {},
   "source": [
    "#### Phân tích dữ liệu để trả lời cho câu hỏi"
   ]
  },
  {
   "cell_type": "markdown",
   "id": "f3d22a9f",
   "metadata": {},
   "source": [
    "- Bước 1 : Lọc ra dữ liệu gồm những dòng có cột `Date` là ngày cuối cùng thu thập dữ liệu (2020-07-27)\n",
    "- Bước 2 : Gom nhóm theo cột `Country/Region` và dùng hàm `sum` để lấy ra tổng số ca nhiễm của các quốc gia có trong bộ dữ liệu\n",
    "- Bước 3 : Sử dụng hàm `sort_value` theo cột `Confirmed` đã tính được từ bước 2\n",
    "- Bước 4 : Lấy 10 dòng đầu tiên của dữ liệu thu được ở bước 3\n",
    "- Bước 5 : Vẽ biểu đồ thể hiện top 10 quốc gia có số ca nhiễm COVID nhiều nhất thế giới"
   ]
  },
  {
   "cell_type": "code",
   "execution_count": 14,
   "id": "211f6f48",
   "metadata": {},
   "outputs": [
    {
     "data": {
      "text/html": [
       "<div>\n",
       "<style scoped>\n",
       "    .dataframe tbody tr th:only-of-type {\n",
       "        vertical-align: middle;\n",
       "    }\n",
       "\n",
       "    .dataframe tbody tr th {\n",
       "        vertical-align: top;\n",
       "    }\n",
       "\n",
       "    .dataframe thead th {\n",
       "        text-align: right;\n",
       "    }\n",
       "</style>\n",
       "<table border=\"1\" class=\"dataframe\">\n",
       "  <thead>\n",
       "    <tr style=\"text-align: right;\">\n",
       "      <th></th>\n",
       "      <th>Country/Region</th>\n",
       "      <th>Confirmed</th>\n",
       "    </tr>\n",
       "  </thead>\n",
       "  <tbody>\n",
       "    <tr>\n",
       "      <th>0</th>\n",
       "      <td>US</td>\n",
       "      <td>4290259</td>\n",
       "    </tr>\n",
       "    <tr>\n",
       "      <th>1</th>\n",
       "      <td>Brazil</td>\n",
       "      <td>2442375</td>\n",
       "    </tr>\n",
       "    <tr>\n",
       "      <th>2</th>\n",
       "      <td>India</td>\n",
       "      <td>1480073</td>\n",
       "    </tr>\n",
       "    <tr>\n",
       "      <th>3</th>\n",
       "      <td>Russia</td>\n",
       "      <td>816680</td>\n",
       "    </tr>\n",
       "    <tr>\n",
       "      <th>4</th>\n",
       "      <td>South Africa</td>\n",
       "      <td>452529</td>\n",
       "    </tr>\n",
       "    <tr>\n",
       "      <th>5</th>\n",
       "      <td>Mexico</td>\n",
       "      <td>395489</td>\n",
       "    </tr>\n",
       "    <tr>\n",
       "      <th>6</th>\n",
       "      <td>Peru</td>\n",
       "      <td>389717</td>\n",
       "    </tr>\n",
       "    <tr>\n",
       "      <th>7</th>\n",
       "      <td>Chile</td>\n",
       "      <td>347923</td>\n",
       "    </tr>\n",
       "    <tr>\n",
       "      <th>8</th>\n",
       "      <td>United Kingdom</td>\n",
       "      <td>301708</td>\n",
       "    </tr>\n",
       "    <tr>\n",
       "      <th>9</th>\n",
       "      <td>Iran</td>\n",
       "      <td>293606</td>\n",
       "    </tr>\n",
       "  </tbody>\n",
       "</table>\n",
       "</div>"
      ],
      "text/plain": [
       "   Country/Region  Confirmed\n",
       "0              US    4290259\n",
       "1          Brazil    2442375\n",
       "2           India    1480073\n",
       "3          Russia     816680\n",
       "4    South Africa     452529\n",
       "5          Mexico     395489\n",
       "6            Peru     389717\n",
       "7           Chile     347923\n",
       "8  United Kingdom     301708\n",
       "9            Iran     293606"
      ]
     },
     "execution_count": 14,
     "metadata": {},
     "output_type": "execute_result"
    }
   ],
   "source": [
    "d= df.loc[df['Date'] == df['Date'].max()]\n",
    "top_country = d.groupby('Country/Region')['Confirmed'].sum().sort_values(ascending=False).head(10).reset_index()\n",
    "top_country"
   ]
  },
  {
   "cell_type": "code",
   "execution_count": 15,
   "id": "353acbea",
   "metadata": {},
   "outputs": [
    {
     "data": {
      "image/png": "[encoded data removed]",
      "text/plain": [
       "<Figure size 1080x720 with 1 Axes>"
      ]
     },
     "metadata": {},
     "output_type": "display_data"
    }
   ],
   "source": [
    "sns.set(style=\"darkgrid\")\n",
    "plt.figure(figsize= (15,10))\n",
    "\n",
    "ax = sns.barplot(x=top_country['Confirmed'],\n",
    "                 y=top_country['Country/Region'])\n",
    "\n",
    "for i, (value, name) in enumerate(zip(top_country['Confirmed'], top_country['Country/Region'])):\n",
    "    ax.text(value, i-.05, f'{value:,.0f}', size=10, ha='left', va='center')\n",
    "ax.set(xlabel='Total cases', ylabel='Country/Region')\n",
    "\n",
    "plt.xticks(fontsize=15)\n",
    "plt.yticks(fontsize=15)\n",
    "plt.xlabel(' ', fontsize=30)\n",
    "plt.ylabel('Country', fontsize=30)\n",
    "plt.title('Top 10 quốc gia có số ca nhiễm cao nhất thế giới', fontsize=15);"
   ]
  },
  {
   "cell_type": "markdown",
   "id": "027b13b0",
   "metadata": {},
   "source": [
    "Từ biểu đồ ta thấy top 10 quốc gia có số ca mắc không đồng đều. Nước Mỹ có số ca nhiễm COVID cao khủng khiếp, gần gấp đôi so với Brazil - nước có số ca mắc nhiều thứ 2 thế giới"
   ]
  },
  {
   "cell_type": "markdown",
   "id": "3f2698ee-7f08-4126-99e9-e9bdb3a2d130",
   "metadata": {},
   "source": [
    "### 2. Mỗi tháng, số ca tử vong của quốc gia nào cao nhất?"
   ]
  },
  {
   "cell_type": "markdown",
   "id": "d3785fde-770a-4b77-af33-fd7c09d7cd85",
   "metadata": {},
   "source": [
    "Trả lời được câu hỏi này, ta sẽ biết được khả năng phòng chống dịch của một quốc gia có tốt hay không , các biện pháp hỗ trợ người dân khi bị mắc COVID-19 có đầy đủ hay không?"
   ]
  },
  {
   "cell_type": "markdown",
   "id": "2ffa649d",
   "metadata": {},
   "source": [
    "#### Tiền xử lý\n"
   ]
  },
  {
   "cell_type": "markdown",
   "id": "bfa89003",
   "metadata": {},
   "source": [
    "Do dữ liệu số người chết của mỗi quốc gia được cộng dồn theo từng ngày nên ta lấy giá trị số người chết vào ngày cuối mỗi tháng để xác định số ca tử vong của mỗi quốc gia vào tháng đó"
   ]
  },
  {
   "cell_type": "markdown",
   "id": "818530f5",
   "metadata": {},
   "source": [
    "##### Tạo dataframe tổng số người chết của mỗi quốc gia theo mỗi tháng"
   ]
  },
  {
   "cell_type": "markdown",
   "id": "79b5b721",
   "metadata": {},
   "source": [
    "- Bước 1 : Lấy ngày cuối cùng của mỗi tháng(từ tháng 1 đến tháng 7) trong dữ liệu đang xét\n",
    "- Bước 2 : Tính tổng số người chết của các tỉnh/bang của mỗi quốc gia vào ngày cuối tháng. Sau đó lưu vào dataframe d\n",
    "- Bước 3 : Thêm cột \"Month\" vào dataframe d\n",
    "- Bước 4 : Xác định khoảng thời gian thu thập dữ liệu của dataframe và miền giá trị của cột \"Month\""
   ]
  },
  {
   "cell_type": "code",
   "execution_count": 17,
   "id": "5e3ff870",
   "metadata": {},
   "outputs": [],
   "source": [
    "def last_day_of_month(any_day):\n",
    "    next_month = any_day.replace(day=28) + datetime.timedelta(days=4)  \n",
    "    return next_month - datetime.timedelta(days=next_month.day)\n",
    "last_day=[]\n",
    "for month in range(1, 7):\n",
    "    last_day.append(last_day_of_month(datetime.date(2020, month, 1)))\n",
    "last_day.append(datetime.date(2020, 7, 27))"
   ]
  },
  {
   "cell_type": "code",
   "execution_count": 18,
   "id": "c37cf426",
   "metadata": {},
   "outputs": [
    {
     "data": {
      "text/html": [
       "<div>\n",
       "<style scoped>\n",
       "    .dataframe tbody tr th:only-of-type {\n",
       "        vertical-align: middle;\n",
       "    }\n",
       "\n",
       "    .dataframe tbody tr th {\n",
       "        vertical-align: top;\n",
       "    }\n",
       "\n",
       "    .dataframe thead th {\n",
       "        text-align: right;\n",
       "    }\n",
       "</style>\n",
       "<table border=\"1\" class=\"dataframe\">\n",
       "  <thead>\n",
       "    <tr style=\"text-align: right;\">\n",
       "      <th></th>\n",
       "      <th>Country/Region</th>\n",
       "      <th>Date</th>\n",
       "      <th>Deaths</th>\n",
       "    </tr>\n",
       "  </thead>\n",
       "  <tbody>\n",
       "    <tr>\n",
       "      <th>0</th>\n",
       "      <td>Afghanistan</td>\n",
       "      <td>2020-01-31</td>\n",
       "      <td>0.0</td>\n",
       "    </tr>\n",
       "    <tr>\n",
       "      <th>1</th>\n",
       "      <td>Afghanistan</td>\n",
       "      <td>2020-02-29</td>\n",
       "      <td>0.0</td>\n",
       "    </tr>\n",
       "    <tr>\n",
       "      <th>2</th>\n",
       "      <td>Afghanistan</td>\n",
       "      <td>2020-03-31</td>\n",
       "      <td>4.0</td>\n",
       "    </tr>\n",
       "    <tr>\n",
       "      <th>3</th>\n",
       "      <td>Afghanistan</td>\n",
       "      <td>2020-04-30</td>\n",
       "      <td>60.0</td>\n",
       "    </tr>\n",
       "    <tr>\n",
       "      <th>4</th>\n",
       "      <td>Afghanistan</td>\n",
       "      <td>2020-05-31</td>\n",
       "      <td>193.0</td>\n",
       "    </tr>\n",
       "    <tr>\n",
       "      <th>...</th>\n",
       "      <td>...</td>\n",
       "      <td>...</td>\n",
       "      <td>...</td>\n",
       "    </tr>\n",
       "    <tr>\n",
       "      <th>1304</th>\n",
       "      <td>Zimbabwe</td>\n",
       "      <td>2020-03-31</td>\n",
       "      <td>1.0</td>\n",
       "    </tr>\n",
       "    <tr>\n",
       "      <th>1305</th>\n",
       "      <td>Zimbabwe</td>\n",
       "      <td>2020-04-30</td>\n",
       "      <td>3.0</td>\n",
       "    </tr>\n",
       "    <tr>\n",
       "      <th>1306</th>\n",
       "      <td>Zimbabwe</td>\n",
       "      <td>2020-05-31</td>\n",
       "      <td>0.0</td>\n",
       "    </tr>\n",
       "    <tr>\n",
       "      <th>1307</th>\n",
       "      <td>Zimbabwe</td>\n",
       "      <td>2020-06-30</td>\n",
       "      <td>3.0</td>\n",
       "    </tr>\n",
       "    <tr>\n",
       "      <th>1308</th>\n",
       "      <td>Zimbabwe</td>\n",
       "      <td>2020-07-27</td>\n",
       "      <td>29.0</td>\n",
       "    </tr>\n",
       "  </tbody>\n",
       "</table>\n",
       "<p>1309 rows × 3 columns</p>\n",
       "</div>"
      ],
      "text/plain": [
       "     Country/Region       Date  Deaths\n",
       "0       Afghanistan 2020-01-31     0.0\n",
       "1       Afghanistan 2020-02-29     0.0\n",
       "2       Afghanistan 2020-03-31     4.0\n",
       "3       Afghanistan 2020-04-30    60.0\n",
       "4       Afghanistan 2020-05-31   193.0\n",
       "...             ...        ...     ...\n",
       "1304       Zimbabwe 2020-03-31     1.0\n",
       "1305       Zimbabwe 2020-04-30     3.0\n",
       "1306       Zimbabwe 2020-05-31     0.0\n",
       "1307       Zimbabwe 2020-06-30     3.0\n",
       "1308       Zimbabwe 2020-07-27    29.0\n",
       "\n",
       "[1309 rows x 3 columns]"
      ]
     },
     "execution_count": 18,
     "metadata": {},
     "output_type": "execute_result"
    }
   ],
   "source": [
    "df_month = df[df['Date'].isin(last_day)]\n",
    "d= df_month.groupby([\"Country/Region\",\"Date\"])[\"Deaths\"].sum().reset_index()\n",
    "start_deaths=d['Deaths'][0::7]\n",
    "d['Deaths']=d['Deaths']-d['Deaths'].shift(1)\n",
    "d['Deaths'][0::7]= start_deaths\n",
    "d"
   ]
  },
  {
   "cell_type": "code",
   "execution_count": 19,
   "id": "a4ea96fb",
   "metadata": {},
   "outputs": [
    {
     "data": {
      "text/html": [
       "<div>\n",
       "<style scoped>\n",
       "    .dataframe tbody tr th:only-of-type {\n",
       "        vertical-align: middle;\n",
       "    }\n",
       "\n",
       "    .dataframe tbody tr th {\n",
       "        vertical-align: top;\n",
       "    }\n",
       "\n",
       "    .dataframe thead th {\n",
       "        text-align: right;\n",
       "    }\n",
       "</style>\n",
       "<table border=\"1\" class=\"dataframe\">\n",
       "  <thead>\n",
       "    <tr style=\"text-align: right;\">\n",
       "      <th></th>\n",
       "      <th>Country/Region</th>\n",
       "      <th>Date</th>\n",
       "      <th>Deaths</th>\n",
       "      <th>Month</th>\n",
       "    </tr>\n",
       "  </thead>\n",
       "  <tbody>\n",
       "    <tr>\n",
       "      <th>0</th>\n",
       "      <td>Afghanistan</td>\n",
       "      <td>2020-01-31</td>\n",
       "      <td>0.0</td>\n",
       "      <td>1</td>\n",
       "    </tr>\n",
       "    <tr>\n",
       "      <th>1</th>\n",
       "      <td>Afghanistan</td>\n",
       "      <td>2020-02-29</td>\n",
       "      <td>0.0</td>\n",
       "      <td>2</td>\n",
       "    </tr>\n",
       "    <tr>\n",
       "      <th>2</th>\n",
       "      <td>Afghanistan</td>\n",
       "      <td>2020-03-31</td>\n",
       "      <td>4.0</td>\n",
       "      <td>3</td>\n",
       "    </tr>\n",
       "    <tr>\n",
       "      <th>3</th>\n",
       "      <td>Afghanistan</td>\n",
       "      <td>2020-04-30</td>\n",
       "      <td>60.0</td>\n",
       "      <td>4</td>\n",
       "    </tr>\n",
       "    <tr>\n",
       "      <th>4</th>\n",
       "      <td>Afghanistan</td>\n",
       "      <td>2020-05-31</td>\n",
       "      <td>193.0</td>\n",
       "      <td>5</td>\n",
       "    </tr>\n",
       "    <tr>\n",
       "      <th>5</th>\n",
       "      <td>Afghanistan</td>\n",
       "      <td>2020-06-30</td>\n",
       "      <td>489.0</td>\n",
       "      <td>6</td>\n",
       "    </tr>\n",
       "    <tr>\n",
       "      <th>6</th>\n",
       "      <td>Afghanistan</td>\n",
       "      <td>2020-07-27</td>\n",
       "      <td>523.0</td>\n",
       "      <td>7</td>\n",
       "    </tr>\n",
       "    <tr>\n",
       "      <th>7</th>\n",
       "      <td>Albania</td>\n",
       "      <td>2020-01-31</td>\n",
       "      <td>0.0</td>\n",
       "      <td>1</td>\n",
       "    </tr>\n",
       "    <tr>\n",
       "      <th>8</th>\n",
       "      <td>Albania</td>\n",
       "      <td>2020-02-29</td>\n",
       "      <td>0.0</td>\n",
       "      <td>2</td>\n",
       "    </tr>\n",
       "    <tr>\n",
       "      <th>9</th>\n",
       "      <td>Albania</td>\n",
       "      <td>2020-03-31</td>\n",
       "      <td>15.0</td>\n",
       "      <td>3</td>\n",
       "    </tr>\n",
       "  </tbody>\n",
       "</table>\n",
       "</div>"
      ],
      "text/plain": [
       "  Country/Region       Date  Deaths  Month\n",
       "0    Afghanistan 2020-01-31     0.0      1\n",
       "1    Afghanistan 2020-02-29     0.0      2\n",
       "2    Afghanistan 2020-03-31     4.0      3\n",
       "3    Afghanistan 2020-04-30    60.0      4\n",
       "4    Afghanistan 2020-05-31   193.0      5\n",
       "5    Afghanistan 2020-06-30   489.0      6\n",
       "6    Afghanistan 2020-07-27   523.0      7\n",
       "7        Albania 2020-01-31     0.0      1\n",
       "8        Albania 2020-02-29     0.0      2\n",
       "9        Albania 2020-03-31    15.0      3"
      ]
     },
     "execution_count": 19,
     "metadata": {},
     "output_type": "execute_result"
    }
   ],
   "source": [
    "d['Month'] = pd.DatetimeIndex(d['Date']).month\n",
    "d.head(10)"
   ]
  },
  {
   "cell_type": "code",
   "execution_count": 20,
   "id": "e1f3bbb5",
   "metadata": {},
   "outputs": [],
   "source": [
    "range_time = df['Date'].value_counts().sort_index()\n",
    "range_month = pd.DataFrame({'Date':[range_time.index[0], range_time.index[-1]]},index=['Min','Max'])\n",
    "month_range = d['Month'].value_counts().sort_index()\n",
    "range_month = range_month.join(pd.DataFrame({'Month': [month_range.index[0],\n",
    "                                                         month_range.index[-1]]}, \n",
    "                                              index=['Min', 'Max']))"
   ]
  },
  {
   "cell_type": "markdown",
   "id": "c539aa46",
   "metadata": {},
   "source": [
    "#### Phân tích dữ liệu để trả lời cho câu hỏi"
   ]
  },
  {
   "cell_type": "markdown",
   "id": "7fe620c5",
   "metadata": {},
   "source": [
    "- Bước 1 : Lấy ra dữ liệu gồm các cột 'Month','Country/Region','Deaths' của dataframe d rồi gom nhóm 2 cột 'Month','Country/Region' và lấy max\n",
    "- Bước 2 : Với mỗi tháng, tìm xem quốc gia nào có số người chết cao nhất và đưa vào dictionary `max_deaths`"
   ]
  },
  {
   "cell_type": "code",
   "execution_count": 22,
   "id": "6b1f1f43",
   "metadata": {},
   "outputs": [
    {
     "data": {
      "text/plain": [
       "{1: {'China': 213.0},\n",
       " 2: {'China': 2624.0},\n",
       " 3: {'Italy': 12399.0},\n",
       " 4: {'US': 58651.0},\n",
       " 5: {'US': 41108.0},\n",
       " 6: {'Brazil': 30280.0},\n",
       " 7: {'Brazil': 28024.0}}"
      ]
     },
     "execution_count": 22,
     "metadata": {},
     "output_type": "execute_result"
    }
   ],
   "source": [
    "a= d[['Month','Country/Region','Deaths']].groupby(['Month','Country/Region']).max()\n",
    "\n",
    "max_deaths = {}\n",
    "for i in range(range_month.loc['Min','Month'], range_month.loc['Max','Month']+1):\n",
    "    death_month = a.loc[i]\n",
    "    for j in death_month.index:\n",
    "        if death_month.loc[j,'Deaths']==death_month['Deaths'].max():\n",
    "            max_deaths[i]={j:death_month.loc[j,'Deaths']}\n",
    "            break\n",
    "max_deaths"
   ]
  },
  {
   "cell_type": "markdown",
   "id": "02a18562-525c-40c2-b4ab-3299f2ac74b3",
   "metadata": {},
   "source": [
    "## Nhìn lại quá trình làm đồ án"
   ]
  },
  {
   "cell_type": "markdown",
   "id": "d14231a0-7b07-4fb8-a74f-99cb88e79d7a",
   "metadata": {},
   "source": [
    "### Khó khăn:\n",
    "- Trong quá trình trả lời câu hỏi, có một vài dữ liệu cần phải xử lý bằng nhiều hàm mới có dữ liệu chính xác. Ví dụ số ca nhiễm COVID ở cột Confirmed được cộng dồn qua từng ngày...\n",
    "- Dữ liệu số người chết được cộng dồn theo từng ngày nên cần xử lý bằng nhiều hàm để tính toán được số người chết mỗi tháng"
   ]
  },
  {
   "cell_type": "markdown",
   "id": "eda20839-d2db-44ff-a2a4-34b1b1463f71",
   "metadata": {},
   "source": [
    "### Đã học được những gì?\n",
    "- Biết thêm nhiều cách vẽ biểu đồ thông qua thư viện matplotlib\n",
    "- Nâng cao kỹ năng sử dụng thư viện datetime"
   ]
  },
  {
   "cell_type": "markdown",
   "id": "8fd10bb5-1e37-4c2c-84ef-3ec771873d6b",
   "metadata": {
    "tags": []
   },
   "source": [
    "### Có thêm thời gian thì sẽ làm gì?\n",
    "- Nhóm sẽ đặt thêm vài câu hỏi có mức độ thử thách cao hơn và giải quyết chúng"
   ]
  },
  {
   "cell_type": "markdown",
   "id": "24dcdff5-f610-48e5-b3b8-e4fa06f315ff",
   "metadata": {},
   "source": [
    "## Tài liệu tham khảo\n",
    "- https://stackoverflow.com/\n",
    "- https://www.kaggle.com/imdevskp/corona-virus-report\n",
    "- https://qastack.vn/programming/"
   ]
  }
 ],
 "metadata": {
  "kernelspec": {
   "display_name": "Python 3 (ipykernel)",
   "language": "python",
   "name": "python3"
  },
  "language_info": {
   "codemirror_mode": {
    "name": "ipython",
    "version": 3
   },
   "file_extension": ".py",
   "mimetype": "text/x-python",
   "name": "python",
   "nbconvert_exporter": "python",
   "pygments_lexer": "ipython3",
   "version": "3.8.8"
  }
 },
 "nbformat": 4,
 "nbformat_minor": 5
}
