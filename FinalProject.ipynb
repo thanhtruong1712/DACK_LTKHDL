{
 "cells": [
  {
   "cell_type": "markdown",
   "id": "67b3c8b7-5638-4d6a-9f5c-36a5299c8b11",
   "metadata": {},
   "source": [
    "# Đồ án cuối kỳ môn: Lập trình cho khoa học dữ liệu"
   ]
  },
  {
   "cell_type": "markdown",
   "id": "957e4d94-8349-4ec8-a46a-282ea3141c31",
   "metadata": {},
   "source": [
    "## Danh sách thành viên\n",
    "\n",
    "| MSSV  | Họ tên  | Tài khoản github  |\n",
    "|:------|:--------|:------------------|\n",
    "1712770| Trương Thị Lệ Thanh  |thanhtruong1712|\n",
    "1712771|  Bùi Thái Tấn Thành  |thanhtan0501|"
   ]
  },
  {
   "cell_type": "markdown",
   "id": "cb76f18f-763b-4bc3-b72b-78d32a371320",
   "metadata": {},
   "source": [
    "## Import các thư viện cần thiết"
   ]
  },
  {
   "cell_type": "code",
   "execution_count": 3,
   "id": "8653a4c1-7584-4e11-a2c8-a38057cb6702",
   "metadata": {},
   "outputs": [],
   "source": [
    "import numpy as np\n",
    "import pandas as pd\n",
    "%matplotlib inline\n",
    "import matplotlib.pyplot as plt\n",
    "import seaborn as sns\n",
    "import plotly.express as px\n",
    "import datetime"
   ]
  },
  {
   "cell_type": "markdown",
   "id": "0fb70e72-912a-466c-9314-fd5faff3fe63",
   "metadata": {},
   "source": [
    "## Thu thập dữ liệu"
   ]
  },
  {
   "cell_type": "markdown",
   "id": "ad44562d-ca02-49cf-a6b5-0af5cc3c0f32",
   "metadata": {},
   "source": [
    "Bộ dữ liệu cung cấp thông tin về tổng số ca mắc, tử vong và hồi phục do tác động của dịch COVID-19 từ các quốc gia trên thế giới\n",
    "- Nguồn dữ liệu: https://www.kaggle.com/imdevskp/corona-virus-report"
   ]
  },
  {
   "cell_type": "markdown",
   "id": "c0a639ca-5760-41e6-9a24-56543cd77926",
   "metadata": {},
   "source": [
    "## Khám phá dữ liệu"
   ]
  },
  {
   "cell_type": "markdown",
   "id": "b776d281-6342-494f-8332-5b0a6e74ee05",
   "metadata": {},
   "source": [
    "### Đọc dữ liệu từ file csv vào dataframe"
   ]
  },
  {
   "cell_type": "code",
   "execution_count": 4,
   "id": "42ae77a5-b56f-4317-b8a0-e43e2a899715",
   "metadata": {},
   "outputs": [
    {
     "data": {
      "text/html": [
       "<div>\n",
       "<style scoped>\n",
       "    .dataframe tbody tr th:only-of-type {\n",
       "        vertical-align: middle;\n",
       "    }\n",
       "\n",
       "    .dataframe tbody tr th {\n",
       "        vertical-align: top;\n",
       "    }\n",
       "\n",
       "    .dataframe thead th {\n",
       "        text-align: right;\n",
       "    }\n",
       "</style>\n",
       "<table border=\"1\" class=\"dataframe\">\n",
       "  <thead>\n",
       "    <tr style=\"text-align: right;\">\n",
       "      <th></th>\n",
       "      <th>Province/State</th>\n",
       "      <th>Country/Region</th>\n",
       "      <th>Lat</th>\n",
       "      <th>Long</th>\n",
       "      <th>Date</th>\n",
       "      <th>Confirmed</th>\n",
       "      <th>Deaths</th>\n",
       "      <th>Recovered</th>\n",
       "      <th>Active</th>\n",
       "      <th>WHO Region</th>\n",
       "    </tr>\n",
       "  </thead>\n",
       "  <tbody>\n",
       "    <tr>\n",
       "      <th>0</th>\n",
       "      <td>NaN</td>\n",
       "      <td>Afghanistan</td>\n",
       "      <td>33.93911</td>\n",
       "      <td>67.709953</td>\n",
       "      <td>2020-01-22</td>\n",
       "      <td>0</td>\n",
       "      <td>0</td>\n",
       "      <td>0</td>\n",
       "      <td>0</td>\n",
       "      <td>Eastern Mediterranean</td>\n",
       "    </tr>\n",
       "    <tr>\n",
       "      <th>1</th>\n",
       "      <td>NaN</td>\n",
       "      <td>Albania</td>\n",
       "      <td>41.15330</td>\n",
       "      <td>20.168300</td>\n",
       "      <td>2020-01-22</td>\n",
       "      <td>0</td>\n",
       "      <td>0</td>\n",
       "      <td>0</td>\n",
       "      <td>0</td>\n",
       "      <td>Europe</td>\n",
       "    </tr>\n",
       "    <tr>\n",
       "      <th>2</th>\n",
       "      <td>NaN</td>\n",
       "      <td>Algeria</td>\n",
       "      <td>28.03390</td>\n",
       "      <td>1.659600</td>\n",
       "      <td>2020-01-22</td>\n",
       "      <td>0</td>\n",
       "      <td>0</td>\n",
       "      <td>0</td>\n",
       "      <td>0</td>\n",
       "      <td>Africa</td>\n",
       "    </tr>\n",
       "    <tr>\n",
       "      <th>3</th>\n",
       "      <td>NaN</td>\n",
       "      <td>Andorra</td>\n",
       "      <td>42.50630</td>\n",
       "      <td>1.521800</td>\n",
       "      <td>2020-01-22</td>\n",
       "      <td>0</td>\n",
       "      <td>0</td>\n",
       "      <td>0</td>\n",
       "      <td>0</td>\n",
       "      <td>Europe</td>\n",
       "    </tr>\n",
       "    <tr>\n",
       "      <th>4</th>\n",
       "      <td>NaN</td>\n",
       "      <td>Angola</td>\n",
       "      <td>-11.20270</td>\n",
       "      <td>17.873900</td>\n",
       "      <td>2020-01-22</td>\n",
       "      <td>0</td>\n",
       "      <td>0</td>\n",
       "      <td>0</td>\n",
       "      <td>0</td>\n",
       "      <td>Africa</td>\n",
       "    </tr>\n",
       "  </tbody>\n",
       "</table>\n",
       "</div>"
      ],
      "text/plain": [
       "  Province/State Country/Region       Lat       Long        Date  Confirmed  \\\n",
       "0            NaN    Afghanistan  33.93911  67.709953  2020-01-22          0   \n",
       "1            NaN        Albania  41.15330  20.168300  2020-01-22          0   \n",
       "2            NaN        Algeria  28.03390   1.659600  2020-01-22          0   \n",
       "3            NaN        Andorra  42.50630   1.521800  2020-01-22          0   \n",
       "4            NaN         Angola -11.20270  17.873900  2020-01-22          0   \n",
       "\n",
       "   Deaths  Recovered  Active             WHO Region  \n",
       "0       0          0       0  Eastern Mediterranean  \n",
       "1       0          0       0                 Europe  \n",
       "2       0          0       0                 Africa  \n",
       "3       0          0       0                 Europe  \n",
       "4       0          0       0                 Africa  "
      ]
     },
     "execution_count": 4,
     "metadata": {},
     "output_type": "execute_result"
    }
   ],
   "source": [
    "df = pd.read_csv(\"Data/covid_19_clean_complete.csv\")\n",
    "df.head()"
   ]
  },
  {
   "cell_type": "markdown",
   "id": "de2118dd-b282-473f-9f46-cadf12802a4d",
   "metadata": {},
   "source": [
    "### Số dòng và số cột của dữ liệu"
   ]
  },
  {
   "cell_type": "markdown",
   "id": "4edfcb5f-4084-4c69-9907-150378343106",
   "metadata": {},
   "source": [
    "Số dòng và số cột của dữ liệu sẽ được tính và lưu vào hai biến `num_rows` và `num_cols`."
   ]
  },
  {
   "cell_type": "code",
   "execution_count": 3,
   "id": "1560718a-371b-43a7-a3ee-8f8446097ee9",
   "metadata": {},
   "outputs": [
    {
     "name": "stdout",
     "output_type": "stream",
     "text": [
      "Dữ liệu có 49068 dòng và 10 cột\n"
     ]
    }
   ],
   "source": [
    "num_rows, num_cols = df.shape\n",
    "print(\"Dữ liệu có {} dòng và {} cột\".format(num_rows, num_cols))"
   ]
  },
  {
   "cell_type": "markdown",
   "id": "65fa2e11-bfba-4025-96aa-42bbb998c850",
   "metadata": {},
   "source": [
    "### Mỗi dòng có ý nghĩa gì? Có vấn đề các dòng có ý nghĩa khác nhau không?"
   ]
  },
  {
   "cell_type": "markdown",
   "id": "cc00296f-3c7b-46e5-80b4-e61d8abfe67f",
   "metadata": {},
   "source": []
  },
  {
   "cell_type": "markdown",
   "id": "d0990ceb-87a6-49df-9112-ec3c29206a73",
   "metadata": {},
   "source": [
    "### Dữ liệu có các dòng bị lặp không?"
   ]
  },
  {
   "cell_type": "code",
   "execution_count": null,
   "id": "7994ff40-5ede-429b-a9e8-9dbbf3872e1a",
   "metadata": {},
   "outputs": [],
   "source": []
  },
  {
   "cell_type": "markdown",
   "id": "7889bb9b-66fe-4e07-98db-fbecff9528af",
   "metadata": {},
   "source": [
    "### Mỗi cột có ý nghĩa gì?"
   ]
  },
  {
   "cell_type": "markdown",
   "id": "08d779aa-bb79-4756-a3f9-df6870643461",
   "metadata": {},
   "source": [
    "- Province/State: Tỉnh hoặc bang của quốc gia\n",
    "- Country/Region: Quốc gia hoặc vùng lãnh thổ\n",
    "- Lat: vĩ độ của vị trí đó\n",
    "- Long: kinh độ của vị trí đó\n",
    "- Date: Ngày được báo cáo\n",
    "- Confirmed: Tổng số ca nhiễm đã được xác nhận cho đến ngày được báo cáo\n",
    "- Deaths: Tổng số ca tử vong cho đến ngày được báo cáo\n",
    "- Recovered: Tổng số ca hồi phục cho đến ngày được báo cáo\n",
    "- Active: Tổng số ca mắc còn lại cho đến ngày được báo cáo\n",
    "- WHO Region: Khu vực WHO phụ trách"
   ]
  },
  {
   "cell_type": "markdown",
   "id": "87a3aff2-e999-424d-8ee5-fe8191da88a1",
   "metadata": {},
   "source": [
    "### Mỗi cột hiện đang có kiểu dữ liệu gì?"
   ]
  },
  {
   "cell_type": "code",
   "execution_count": 5,
   "id": "717f4163-5c9f-4133-931b-068964be5c0f",
   "metadata": {},
   "outputs": [
    {
     "data": {
      "text/plain": [
       "Province/State     object\n",
       "Country/Region     object\n",
       "Lat               float64\n",
       "Long              float64\n",
       "Date               object\n",
       "Confirmed           int64\n",
       "Deaths              int64\n",
       "Recovered           int64\n",
       "Active              int64\n",
       "WHO Region         object\n",
       "dtype: object"
      ]
     },
     "execution_count": 5,
     "metadata": {},
     "output_type": "execute_result"
    }
   ],
   "source": [
    "df.dtypes"
   ]
  },
  {
   "cell_type": "markdown",
   "id": "b55b8905-fd8e-47d7-9337-349bd330478e",
   "metadata": {},
   "source": [
    "Ta thấy cột `Date` có kiểu dữ liệu là `object`, vì vậy ta phải chuyển kiểu dữ liệu của cột `Date` từ `object` sang `datetime`"
   ]
  },
  {
   "cell_type": "code",
   "execution_count": 5,
   "id": "898d4be5-48a8-44bd-866a-2bead96f2be6",
   "metadata": {},
   "outputs": [],
   "source": [
    "df['Date'] = pd.to_datetime(df['Date'], format = \"%Y-%m-%d\")"
   ]
  },
  {
   "cell_type": "code",
   "execution_count": 7,
   "id": "aa8a0cc4-b019-441c-9855-7e127d060629",
   "metadata": {},
   "outputs": [
    {
     "data": {
      "text/plain": [
       "Province/State            object\n",
       "Country/Region            object\n",
       "Lat                      float64\n",
       "Long                     float64\n",
       "Date              datetime64[ns]\n",
       "Confirmed                  int64\n",
       "Deaths                     int64\n",
       "Recovered                  int64\n",
       "Active                     int64\n",
       "WHO Region                object\n",
       "dtype: object"
      ]
     },
     "execution_count": 7,
     "metadata": {},
     "output_type": "execute_result"
    }
   ],
   "source": [
    "df.dtypes"
   ]
  },
  {
   "cell_type": "markdown",
   "id": "5c602f87-7c1d-4db2-8508-7cbbff354e43",
   "metadata": {},
   "source": [
    "### Với mỗi cột có kiểu dữ liệu dạng số (numerical), các giá trị được phân bố như thế nào?"
   ]
  },
  {
   "cell_type": "code",
   "execution_count": null,
   "id": "423959de-6e73-40ea-97d9-2d7e908dd016",
   "metadata": {},
   "outputs": [],
   "source": []
  },
  {
   "cell_type": "markdown",
   "id": "e97cefc6-9808-4704-9719-a8aff8d28d63",
   "metadata": {},
   "source": [
    "### Với mỗi cột có kiểu dữ liệu dạng categorical, các giá trị được phân bố như thế nào? "
   ]
  },
  {
   "cell_type": "markdown",
   "id": "e650d36a-30f0-4494-8daa-5b3bc833a022",
   "metadata": {},
   "source": [
    "Hiện có 3 cột thuộc nhóm categorical: \"Province/State\", \"Country/Region\", \"WHO Region\""
   ]
  },
  {
   "cell_type": "code",
   "execution_count": 6,
   "id": "a8e12355-c4a6-4f5f-8937-80b2b126b8f7",
   "metadata": {},
   "outputs": [
    {
     "data": {
      "text/html": [
       "<div>\n",
       "<style scoped>\n",
       "    .dataframe tbody tr th:only-of-type {\n",
       "        vertical-align: middle;\n",
       "    }\n",
       "\n",
       "    .dataframe tbody tr th {\n",
       "        vertical-align: top;\n",
       "    }\n",
       "\n",
       "    .dataframe thead th {\n",
       "        text-align: right;\n",
       "    }\n",
       "</style>\n",
       "<table border=\"1\" class=\"dataframe\">\n",
       "  <thead>\n",
       "    <tr style=\"text-align: right;\">\n",
       "      <th></th>\n",
       "      <th>Province/State</th>\n",
       "      <th>Country/Region</th>\n",
       "      <th>WHO Region</th>\n",
       "    </tr>\n",
       "  </thead>\n",
       "  <tbody>\n",
       "    <tr>\n",
       "      <th>missing_ratio</th>\n",
       "      <td>70.114943</td>\n",
       "      <td>0.0</td>\n",
       "      <td>0.0</td>\n",
       "    </tr>\n",
       "    <tr>\n",
       "      <th>num_diff_vals</th>\n",
       "      <td>78</td>\n",
       "      <td>187</td>\n",
       "      <td>6</td>\n",
       "    </tr>\n",
       "    <tr>\n",
       "      <th>diff_vals</th>\n",
       "      <td>{'Quebec': 188, 'French Guiana': 188, 'Curacao...</td>\n",
       "      <td>{'China': 6204, 'Canada': 2256, 'United Kingdo...</td>\n",
       "      <td>{'Europe': 15040, 'Western Pacific': 10340, 'A...</td>\n",
       "    </tr>\n",
       "  </tbody>\n",
       "</table>\n",
       "</div>"
      ],
      "text/plain": [
       "                                                  Province/State  \\\n",
       "missing_ratio                                          70.114943   \n",
       "num_diff_vals                                                 78   \n",
       "diff_vals      {'Quebec': 188, 'French Guiana': 188, 'Curacao...   \n",
       "\n",
       "                                                  Country/Region  \\\n",
       "missing_ratio                                                0.0   \n",
       "num_diff_vals                                                187   \n",
       "diff_vals      {'China': 6204, 'Canada': 2256, 'United Kingdo...   \n",
       "\n",
       "                                                      WHO Region  \n",
       "missing_ratio                                                0.0  \n",
       "num_diff_vals                                                  6  \n",
       "diff_vals      {'Europe': 15040, 'Western Pacific': 10340, 'A...  "
      ]
     },
     "execution_count": 6,
     "metadata": {},
     "output_type": "execute_result"
    }
   ],
   "source": [
    "cate_df= df[[\"Province/State\", \"Country/Region\", \"WHO Region\"]]\n",
    "def missing_ratio(s):\n",
    "    return s.isna().mean() * 100\n",
    "def num_diff_vals(s):\n",
    "    return s.drop_duplicates().count()\n",
    "def diff_vals(s):\n",
    "    return dict(s.value_counts())\n",
    "cate_col_profiles_df = cate_df.agg([missing_ratio,num_diff_vals,diff_vals])\n",
    "cate_col_profiles_df"
   ]
  },
  {
   "cell_type": "markdown",
   "id": "e96609cf-569b-4b44-a34b-a3da43af4282",
   "metadata": {},
   "source": [
    "Ta thấy cột `Province/State` có giá trị NaN với tỉ lệ rất cao. Ta thực hiện tiền xử lý thay thế bằng giá trị 'Unknown'"
   ]
  },
  {
   "cell_type": "code",
   "execution_count": 7,
   "id": "ea9fd81d-919b-43fd-8d31-cf412eb7ed30",
   "metadata": {},
   "outputs": [
    {
     "data": {
      "text/html": [
       "<div>\n",
       "<style scoped>\n",
       "    .dataframe tbody tr th:only-of-type {\n",
       "        vertical-align: middle;\n",
       "    }\n",
       "\n",
       "    .dataframe tbody tr th {\n",
       "        vertical-align: top;\n",
       "    }\n",
       "\n",
       "    .dataframe thead th {\n",
       "        text-align: right;\n",
       "    }\n",
       "</style>\n",
       "<table border=\"1\" class=\"dataframe\">\n",
       "  <thead>\n",
       "    <tr style=\"text-align: right;\">\n",
       "      <th></th>\n",
       "      <th>Province/State</th>\n",
       "      <th>Country/Region</th>\n",
       "      <th>Lat</th>\n",
       "      <th>Long</th>\n",
       "      <th>Date</th>\n",
       "      <th>Confirmed</th>\n",
       "      <th>Deaths</th>\n",
       "      <th>Recovered</th>\n",
       "      <th>Active</th>\n",
       "      <th>WHO Region</th>\n",
       "    </tr>\n",
       "  </thead>\n",
       "  <tbody>\n",
       "    <tr>\n",
       "      <th>0</th>\n",
       "      <td>Unknown</td>\n",
       "      <td>Afghanistan</td>\n",
       "      <td>33.939110</td>\n",
       "      <td>67.709953</td>\n",
       "      <td>2020-01-22</td>\n",
       "      <td>0</td>\n",
       "      <td>0</td>\n",
       "      <td>0</td>\n",
       "      <td>0</td>\n",
       "      <td>Eastern Mediterranean</td>\n",
       "    </tr>\n",
       "    <tr>\n",
       "      <th>1</th>\n",
       "      <td>Unknown</td>\n",
       "      <td>Albania</td>\n",
       "      <td>41.153300</td>\n",
       "      <td>20.168300</td>\n",
       "      <td>2020-01-22</td>\n",
       "      <td>0</td>\n",
       "      <td>0</td>\n",
       "      <td>0</td>\n",
       "      <td>0</td>\n",
       "      <td>Europe</td>\n",
       "    </tr>\n",
       "    <tr>\n",
       "      <th>2</th>\n",
       "      <td>Unknown</td>\n",
       "      <td>Algeria</td>\n",
       "      <td>28.033900</td>\n",
       "      <td>1.659600</td>\n",
       "      <td>2020-01-22</td>\n",
       "      <td>0</td>\n",
       "      <td>0</td>\n",
       "      <td>0</td>\n",
       "      <td>0</td>\n",
       "      <td>Africa</td>\n",
       "    </tr>\n",
       "    <tr>\n",
       "      <th>3</th>\n",
       "      <td>Unknown</td>\n",
       "      <td>Andorra</td>\n",
       "      <td>42.506300</td>\n",
       "      <td>1.521800</td>\n",
       "      <td>2020-01-22</td>\n",
       "      <td>0</td>\n",
       "      <td>0</td>\n",
       "      <td>0</td>\n",
       "      <td>0</td>\n",
       "      <td>Europe</td>\n",
       "    </tr>\n",
       "    <tr>\n",
       "      <th>4</th>\n",
       "      <td>Unknown</td>\n",
       "      <td>Angola</td>\n",
       "      <td>-11.202700</td>\n",
       "      <td>17.873900</td>\n",
       "      <td>2020-01-22</td>\n",
       "      <td>0</td>\n",
       "      <td>0</td>\n",
       "      <td>0</td>\n",
       "      <td>0</td>\n",
       "      <td>Africa</td>\n",
       "    </tr>\n",
       "    <tr>\n",
       "      <th>...</th>\n",
       "      <td>...</td>\n",
       "      <td>...</td>\n",
       "      <td>...</td>\n",
       "      <td>...</td>\n",
       "      <td>...</td>\n",
       "      <td>...</td>\n",
       "      <td>...</td>\n",
       "      <td>...</td>\n",
       "      <td>...</td>\n",
       "      <td>...</td>\n",
       "    </tr>\n",
       "    <tr>\n",
       "      <th>49063</th>\n",
       "      <td>Unknown</td>\n",
       "      <td>Sao Tome and Principe</td>\n",
       "      <td>0.186400</td>\n",
       "      <td>6.613100</td>\n",
       "      <td>2020-07-27</td>\n",
       "      <td>865</td>\n",
       "      <td>14</td>\n",
       "      <td>734</td>\n",
       "      <td>117</td>\n",
       "      <td>Africa</td>\n",
       "    </tr>\n",
       "    <tr>\n",
       "      <th>49064</th>\n",
       "      <td>Unknown</td>\n",
       "      <td>Yemen</td>\n",
       "      <td>15.552727</td>\n",
       "      <td>48.516388</td>\n",
       "      <td>2020-07-27</td>\n",
       "      <td>1691</td>\n",
       "      <td>483</td>\n",
       "      <td>833</td>\n",
       "      <td>375</td>\n",
       "      <td>Eastern Mediterranean</td>\n",
       "    </tr>\n",
       "    <tr>\n",
       "      <th>49065</th>\n",
       "      <td>Unknown</td>\n",
       "      <td>Comoros</td>\n",
       "      <td>-11.645500</td>\n",
       "      <td>43.333300</td>\n",
       "      <td>2020-07-27</td>\n",
       "      <td>354</td>\n",
       "      <td>7</td>\n",
       "      <td>328</td>\n",
       "      <td>19</td>\n",
       "      <td>Africa</td>\n",
       "    </tr>\n",
       "    <tr>\n",
       "      <th>49066</th>\n",
       "      <td>Unknown</td>\n",
       "      <td>Tajikistan</td>\n",
       "      <td>38.861000</td>\n",
       "      <td>71.276100</td>\n",
       "      <td>2020-07-27</td>\n",
       "      <td>7235</td>\n",
       "      <td>60</td>\n",
       "      <td>6028</td>\n",
       "      <td>1147</td>\n",
       "      <td>Europe</td>\n",
       "    </tr>\n",
       "    <tr>\n",
       "      <th>49067</th>\n",
       "      <td>Unknown</td>\n",
       "      <td>Lesotho</td>\n",
       "      <td>-29.610000</td>\n",
       "      <td>28.233600</td>\n",
       "      <td>2020-07-27</td>\n",
       "      <td>505</td>\n",
       "      <td>12</td>\n",
       "      <td>128</td>\n",
       "      <td>365</td>\n",
       "      <td>Africa</td>\n",
       "    </tr>\n",
       "  </tbody>\n",
       "</table>\n",
       "<p>49068 rows × 10 columns</p>\n",
       "</div>"
      ],
      "text/plain": [
       "      Province/State         Country/Region        Lat       Long       Date  \\\n",
       "0            Unknown            Afghanistan  33.939110  67.709953 2020-01-22   \n",
       "1            Unknown                Albania  41.153300  20.168300 2020-01-22   \n",
       "2            Unknown                Algeria  28.033900   1.659600 2020-01-22   \n",
       "3            Unknown                Andorra  42.506300   1.521800 2020-01-22   \n",
       "4            Unknown                 Angola -11.202700  17.873900 2020-01-22   \n",
       "...              ...                    ...        ...        ...        ...   \n",
       "49063        Unknown  Sao Tome and Principe   0.186400   6.613100 2020-07-27   \n",
       "49064        Unknown                  Yemen  15.552727  48.516388 2020-07-27   \n",
       "49065        Unknown                Comoros -11.645500  43.333300 2020-07-27   \n",
       "49066        Unknown             Tajikistan  38.861000  71.276100 2020-07-27   \n",
       "49067        Unknown                Lesotho -29.610000  28.233600 2020-07-27   \n",
       "\n",
       "       Confirmed  Deaths  Recovered  Active             WHO Region  \n",
       "0              0       0          0       0  Eastern Mediterranean  \n",
       "1              0       0          0       0                 Europe  \n",
       "2              0       0          0       0                 Africa  \n",
       "3              0       0          0       0                 Europe  \n",
       "4              0       0          0       0                 Africa  \n",
       "...          ...     ...        ...     ...                    ...  \n",
       "49063        865      14        734     117                 Africa  \n",
       "49064       1691     483        833     375  Eastern Mediterranean  \n",
       "49065        354       7        328      19                 Africa  \n",
       "49066       7235      60       6028    1147                 Europe  \n",
       "49067        505      12        128     365                 Africa  \n",
       "\n",
       "[49068 rows x 10 columns]"
      ]
     },
     "execution_count": 7,
     "metadata": {},
     "output_type": "execute_result"
    }
   ],
   "source": [
    "df.isnull().sum()\n",
    "df['Province/State'].fillna('Unknown',inplace = True)\n",
    "df"
   ]
  },
  {
   "cell_type": "markdown",
   "id": "49a4b5f0-3d93-4467-abec-487203b0e92f",
   "metadata": {},
   "source": [
    "## Đưa ra câu hỏi cần trả lời"
   ]
  },
  {
   "cell_type": "markdown",
   "id": "0027b0ba-f79d-4196-8655-6981646a7c87",
   "metadata": {},
   "source": [
    "### 1. Top 10 quốc gia có số ca nhiễm cao nhất thế giới ? "
   ]
  },
  {
   "cell_type": "markdown",
   "id": "c33a0518-7638-4772-a50e-140553ec3de6",
   "metadata": {},
   "source": [
    "Trả lời được câu hỏi này, ta sẽ biết được tình hình kiểm soát dịch của các quốc gia trên thế giới như thế nào."
   ]
  },
  {
   "cell_type": "code",
   "execution_count": null,
   "id": "786df7ac-2545-4fc5-92ee-3a8c7923ed91",
   "metadata": {},
   "outputs": [],
   "source": []
  },
  {
   "cell_type": "markdown",
   "id": "3f2698ee-7f08-4126-99e9-e9bdb3a2d130",
   "metadata": {},
   "source": [
    "### 2. Mỗi tháng, số ca tử vong của quốc gia nào cao nhất?"
   ]
  },
  {
   "cell_type": "markdown",
   "id": "d3785fde-770a-4b77-af33-fd7c09d7cd85",
   "metadata": {},
   "source": [
    "Trả lời được câu hỏi này, ta sẽ biết được khả năng phòng chống dịch của một quốc gia có tốt hay không , các biện pháp hỗ trợ người dân khi bị mắc COVID-19 có đầy đủ hay không?"
   ]
  },
  {
   "cell_type": "markdown",
   "id": "58739993-7b9b-4ed8-84db-4af3156b6c5a",
   "metadata": {},
   "source": [
    "#### Tiền xử lý"
   ]
  },
  {
   "cell_type": "markdown",
   "id": "1e56f84b-ef9c-4d0c-8a2b-90c28c629a59",
   "metadata": {},
   "source": [
    "Do dữ liệu số người chết của mỗi quốc gia được cộng dồn theo từng ngày nên ta lấy giá trị số người chết vào ngày cuối mỗi tháng để xác định số ca tử vong của mỗi quốc gia vào tháng đó"
   ]
  },
  {
   "cell_type": "markdown",
   "id": "0314c527-7704-4752-9405-175f11111ddc",
   "metadata": {},
   "source": [
    "##### Tạo dataframe tổng số người chết của mỗi quốc gia theo mỗi tháng"
   ]
  },
  {
   "cell_type": "markdown",
   "id": "e864e2c4-0e46-4ae7-a732-a81dc5a0ae38",
   "metadata": {},
   "source": [
    "- Bước 1 : Lấy ngày cuối cùng của mỗi tháng(từ tháng 1 đến tháng 7) trong dữ liệu đang xét\n",
    "- Bước 2 : Tính tổng số người chết của các tỉnh/bang của mỗi quốc gia vào ngày cuối tháng. Sau đó lưu vào dataframe d\n",
    "- Bước 3 : Thêm cột \"Month\" vào dataframe d\n",
    "- Bước 4 : Xác định khoảng thời gian thu thập dữ liệu của dataframe và miền giá trị của cột \"Month\""
   ]
  },
  {
   "cell_type": "code",
   "execution_count": 8,
   "id": "4585386e-b1de-41cb-b54f-7d2eafcc5247",
   "metadata": {},
   "outputs": [],
   "source": [
    "def last_day_of_month(any_day):\n",
    "    next_month = any_day.replace(day=28) + datetime.timedelta(days=4)  \n",
    "    return next_month - datetime.timedelta(days=next_month.day)\n",
    "last_day=[]\n",
    "for month in range(1, 7):\n",
    "    last_day.append(last_day_of_month(datetime.date(2020, month, 1)))\n",
    "last_day.append(datetime.date(2020, 7, 27))"
   ]
  },
  {
   "cell_type": "code",
   "execution_count": 9,
   "id": "a91c47be-39bb-4dba-96ff-30cdef61673a",
   "metadata": {},
   "outputs": [
    {
     "name": "stderr",
     "output_type": "stream",
     "text": [
      "/tmp/ipykernel_292/222683785.py:5: SettingWithCopyWarning: \n",
      "A value is trying to be set on a copy of a slice from a DataFrame\n",
      "\n",
      "See the caveats in the documentation: https://pandas.pydata.org/pandas-docs/stable/user_guide/indexing.html#returning-a-view-versus-a-copy\n",
      "  d['Deaths'][0::7]= start_deaths\n"
     ]
    },
    {
     "data": {
      "text/html": [
       "<div>\n",
       "<style scoped>\n",
       "    .dataframe tbody tr th:only-of-type {\n",
       "        vertical-align: middle;\n",
       "    }\n",
       "\n",
       "    .dataframe tbody tr th {\n",
       "        vertical-align: top;\n",
       "    }\n",
       "\n",
       "    .dataframe thead th {\n",
       "        text-align: right;\n",
       "    }\n",
       "</style>\n",
       "<table border=\"1\" class=\"dataframe\">\n",
       "  <thead>\n",
       "    <tr style=\"text-align: right;\">\n",
       "      <th></th>\n",
       "      <th>Country/Region</th>\n",
       "      <th>Date</th>\n",
       "      <th>Deaths</th>\n",
       "    </tr>\n",
       "  </thead>\n",
       "  <tbody>\n",
       "    <tr>\n",
       "      <th>0</th>\n",
       "      <td>Afghanistan</td>\n",
       "      <td>2020-01-31</td>\n",
       "      <td>0.0</td>\n",
       "    </tr>\n",
       "    <tr>\n",
       "      <th>1</th>\n",
       "      <td>Afghanistan</td>\n",
       "      <td>2020-02-29</td>\n",
       "      <td>0.0</td>\n",
       "    </tr>\n",
       "    <tr>\n",
       "      <th>2</th>\n",
       "      <td>Afghanistan</td>\n",
       "      <td>2020-03-31</td>\n",
       "      <td>4.0</td>\n",
       "    </tr>\n",
       "    <tr>\n",
       "      <th>3</th>\n",
       "      <td>Afghanistan</td>\n",
       "      <td>2020-04-30</td>\n",
       "      <td>60.0</td>\n",
       "    </tr>\n",
       "    <tr>\n",
       "      <th>4</th>\n",
       "      <td>Afghanistan</td>\n",
       "      <td>2020-05-31</td>\n",
       "      <td>193.0</td>\n",
       "    </tr>\n",
       "    <tr>\n",
       "      <th>...</th>\n",
       "      <td>...</td>\n",
       "      <td>...</td>\n",
       "      <td>...</td>\n",
       "    </tr>\n",
       "    <tr>\n",
       "      <th>1304</th>\n",
       "      <td>Zimbabwe</td>\n",
       "      <td>2020-03-31</td>\n",
       "      <td>1.0</td>\n",
       "    </tr>\n",
       "    <tr>\n",
       "      <th>1305</th>\n",
       "      <td>Zimbabwe</td>\n",
       "      <td>2020-04-30</td>\n",
       "      <td>3.0</td>\n",
       "    </tr>\n",
       "    <tr>\n",
       "      <th>1306</th>\n",
       "      <td>Zimbabwe</td>\n",
       "      <td>2020-05-31</td>\n",
       "      <td>0.0</td>\n",
       "    </tr>\n",
       "    <tr>\n",
       "      <th>1307</th>\n",
       "      <td>Zimbabwe</td>\n",
       "      <td>2020-06-30</td>\n",
       "      <td>3.0</td>\n",
       "    </tr>\n",
       "    <tr>\n",
       "      <th>1308</th>\n",
       "      <td>Zimbabwe</td>\n",
       "      <td>2020-07-27</td>\n",
       "      <td>29.0</td>\n",
       "    </tr>\n",
       "  </tbody>\n",
       "</table>\n",
       "<p>1309 rows × 3 columns</p>\n",
       "</div>"
      ],
      "text/plain": [
       "     Country/Region       Date  Deaths\n",
       "0       Afghanistan 2020-01-31     0.0\n",
       "1       Afghanistan 2020-02-29     0.0\n",
       "2       Afghanistan 2020-03-31     4.0\n",
       "3       Afghanistan 2020-04-30    60.0\n",
       "4       Afghanistan 2020-05-31   193.0\n",
       "...             ...        ...     ...\n",
       "1304       Zimbabwe 2020-03-31     1.0\n",
       "1305       Zimbabwe 2020-04-30     3.0\n",
       "1306       Zimbabwe 2020-05-31     0.0\n",
       "1307       Zimbabwe 2020-06-30     3.0\n",
       "1308       Zimbabwe 2020-07-27    29.0\n",
       "\n",
       "[1309 rows x 3 columns]"
      ]
     },
     "execution_count": 9,
     "metadata": {},
     "output_type": "execute_result"
    }
   ],
   "source": [
    "df_month = df[df['Date'].isin(last_day)]\n",
    "d= df_month.groupby([\"Country/Region\",\"Date\"])[\"Deaths\"].sum().reset_index()\n",
    "start_deaths=d['Deaths'][0::7]\n",
    "d['Deaths']=d['Deaths']-d['Deaths'].shift(1)\n",
    "d['Deaths'][0::7]= start_deaths\n",
    "d"
   ]
  },
  {
   "cell_type": "code",
   "execution_count": 10,
   "id": "3c7ce059-3620-43e1-9e54-dd2bed08c3a5",
   "metadata": {},
   "outputs": [
    {
     "data": {
      "text/html": [
       "<div>\n",
       "<style scoped>\n",
       "    .dataframe tbody tr th:only-of-type {\n",
       "        vertical-align: middle;\n",
       "    }\n",
       "\n",
       "    .dataframe tbody tr th {\n",
       "        vertical-align: top;\n",
       "    }\n",
       "\n",
       "    .dataframe thead th {\n",
       "        text-align: right;\n",
       "    }\n",
       "</style>\n",
       "<table border=\"1\" class=\"dataframe\">\n",
       "  <thead>\n",
       "    <tr style=\"text-align: right;\">\n",
       "      <th></th>\n",
       "      <th>Country/Region</th>\n",
       "      <th>Date</th>\n",
       "      <th>Deaths</th>\n",
       "      <th>Month</th>\n",
       "    </tr>\n",
       "  </thead>\n",
       "  <tbody>\n",
       "    <tr>\n",
       "      <th>0</th>\n",
       "      <td>Afghanistan</td>\n",
       "      <td>2020-01-31</td>\n",
       "      <td>0.0</td>\n",
       "      <td>1</td>\n",
       "    </tr>\n",
       "    <tr>\n",
       "      <th>1</th>\n",
       "      <td>Afghanistan</td>\n",
       "      <td>2020-02-29</td>\n",
       "      <td>0.0</td>\n",
       "      <td>2</td>\n",
       "    </tr>\n",
       "    <tr>\n",
       "      <th>2</th>\n",
       "      <td>Afghanistan</td>\n",
       "      <td>2020-03-31</td>\n",
       "      <td>4.0</td>\n",
       "      <td>3</td>\n",
       "    </tr>\n",
       "    <tr>\n",
       "      <th>3</th>\n",
       "      <td>Afghanistan</td>\n",
       "      <td>2020-04-30</td>\n",
       "      <td>60.0</td>\n",
       "      <td>4</td>\n",
       "    </tr>\n",
       "    <tr>\n",
       "      <th>4</th>\n",
       "      <td>Afghanistan</td>\n",
       "      <td>2020-05-31</td>\n",
       "      <td>193.0</td>\n",
       "      <td>5</td>\n",
       "    </tr>\n",
       "    <tr>\n",
       "      <th>5</th>\n",
       "      <td>Afghanistan</td>\n",
       "      <td>2020-06-30</td>\n",
       "      <td>489.0</td>\n",
       "      <td>6</td>\n",
       "    </tr>\n",
       "    <tr>\n",
       "      <th>6</th>\n",
       "      <td>Afghanistan</td>\n",
       "      <td>2020-07-27</td>\n",
       "      <td>523.0</td>\n",
       "      <td>7</td>\n",
       "    </tr>\n",
       "    <tr>\n",
       "      <th>7</th>\n",
       "      <td>Albania</td>\n",
       "      <td>2020-01-31</td>\n",
       "      <td>0.0</td>\n",
       "      <td>1</td>\n",
       "    </tr>\n",
       "    <tr>\n",
       "      <th>8</th>\n",
       "      <td>Albania</td>\n",
       "      <td>2020-02-29</td>\n",
       "      <td>0.0</td>\n",
       "      <td>2</td>\n",
       "    </tr>\n",
       "    <tr>\n",
       "      <th>9</th>\n",
       "      <td>Albania</td>\n",
       "      <td>2020-03-31</td>\n",
       "      <td>15.0</td>\n",
       "      <td>3</td>\n",
       "    </tr>\n",
       "  </tbody>\n",
       "</table>\n",
       "</div>"
      ],
      "text/plain": [
       "  Country/Region       Date  Deaths  Month\n",
       "0    Afghanistan 2020-01-31     0.0      1\n",
       "1    Afghanistan 2020-02-29     0.0      2\n",
       "2    Afghanistan 2020-03-31     4.0      3\n",
       "3    Afghanistan 2020-04-30    60.0      4\n",
       "4    Afghanistan 2020-05-31   193.0      5\n",
       "5    Afghanistan 2020-06-30   489.0      6\n",
       "6    Afghanistan 2020-07-27   523.0      7\n",
       "7        Albania 2020-01-31     0.0      1\n",
       "8        Albania 2020-02-29     0.0      2\n",
       "9        Albania 2020-03-31    15.0      3"
      ]
     },
     "execution_count": 10,
     "metadata": {},
     "output_type": "execute_result"
    }
   ],
   "source": [
    "d['Month'] = pd.DatetimeIndex(d['Date']).month\n",
    "d.head(10)"
   ]
  },
  {
   "cell_type": "code",
   "execution_count": 11,
   "id": "668ed9c9-e915-4bec-b128-a6f22a6f7db9",
   "metadata": {},
   "outputs": [],
   "source": [
    "range_time = df['Date'].value_counts().sort_index()\n",
    "range_month = pd.DataFrame({'Date':[range_time.index[0], range_time.index[-1]]},index=['Min','Max'])\n",
    "month_range = d['Month'].value_counts().sort_index()\n",
    "range_month = range_month.join(pd.DataFrame({'Month': [month_range.index[0],\n",
    "                                                         month_range.index[-1]]}, \n",
    "                                              index=['Min', 'Max']))"
   ]
  },
  {
   "cell_type": "markdown",
   "id": "b7912421-b86e-47c6-b3e5-c6fbcddf23c4",
   "metadata": {},
   "source": [
    "#### Phân tích dữ liệu để trả lời cho câu hỏi"
   ]
  },
  {
   "cell_type": "markdown",
   "id": "1502f0d9-ca75-4d79-8bd3-872a23ad2ad3",
   "metadata": {},
   "source": [
    "- Bước 1 : Lấy ra dữ liệu gồm các cột 'Month','Country/Region','Deaths' của dataframe d rồi gom nhóm 2 cột 'Month','Country/Region' và lấy max\n",
    "- Bước 2 : Với mỗi tháng, tìm xem quốc gia nào có số người chết cao nhất và đưa vào dictionary `max_deaths`"
   ]
  },
  {
   "cell_type": "code",
   "execution_count": 12,
   "id": "ee60090b-1270-4934-91cc-5aa6c20ae98a",
   "metadata": {},
   "outputs": [
    {
     "data": {
      "text/plain": [
       "{1: {'China': 213.0},\n",
       " 2: {'China': 2624.0},\n",
       " 3: {'Italy': 12399.0},\n",
       " 4: {'US': 58651.0},\n",
       " 5: {'US': 41108.0},\n",
       " 6: {'Brazil': 30280.0},\n",
       " 7: {'Brazil': 28024.0}}"
      ]
     },
     "execution_count": 12,
     "metadata": {},
     "output_type": "execute_result"
    }
   ],
   "source": [
    "a= d[['Month','Country/Region','Deaths']].groupby(['Month','Country/Region']).max()\n",
    "\n",
    "max_deaths = {}\n",
    "for i in range(range_month.loc['Min','Month'], range_month.loc['Max','Month']+1):\n",
    "    death_month = a.loc[i]\n",
    "    for j in death_month.index:\n",
    "        if death_month.loc[j,'Deaths']==death_month['Deaths'].max():\n",
    "            max_deaths[i]={j:death_month.loc[j,'Deaths']}\n",
    "            break\n",
    "max_deaths"
   ]
  },
  {
   "cell_type": "markdown",
   "id": "c25f32eb-b178-4fc9-8791-7984afcf4cc6",
   "metadata": {},
   "source": [
    "## Nhìn lại quá trình làm đồ án"
   ]
  },
  {
   "cell_type": "markdown",
   "id": "4e5e96d3-d9a1-4d9a-8f6f-0fc3b2602ef7",
   "metadata": {},
   "source": [
    "### Khó khăn:\n",
    "- Ở câu hỏi 2, dữ liệu số người chết được cộng dồn theo từng ngày nên cần xử lý bằng nhiều hàm để tính toán được số người chết mỗi tháng"
   ]
  },
  {
   "cell_type": "markdown",
   "id": "7496c3c3-4c1e-4e42-aca2-88ac5f692ea6",
   "metadata": {},
   "source": [
    "### Đã học được những gì?\n",
    "- Nâng cao kỹ năng sử dụng thư viện datetime"
   ]
  },
  {
   "cell_type": "markdown",
   "id": "4fe37545-9575-4603-be19-59cf68897dca",
   "metadata": {},
   "source": [
    "### Có thêm thời gian thì sẽ làm gì?"
   ]
  },
  {
   "cell_type": "code",
   "execution_count": null,
   "id": "bcaba4a2-8a04-4ae4-8cda-308a9a193a78",
   "metadata": {},
   "outputs": [],
   "source": []
  },
  {
   "cell_type": "markdown",
   "id": "976231d8-a71f-4dd7-9b11-31df6898baa2",
   "metadata": {},
   "source": [
    "## Tài liệu tham khảo\n"
   ]
  },
  {
   "cell_type": "markdown",
   "id": "d514ec21-c70b-405e-a2a7-e22c6d47cd6f",
   "metadata": {},
   "source": [
    "- https://qastack.vn/programming\n",
    "- https://www.kaggle.com/imdevskp/corona-virus-report/code"
   ]
  },
  {
   "cell_type": "code",
   "execution_count": null,
   "id": "8c076721-1154-4db2-9dab-8ba5bb9d9898",
   "metadata": {},
   "outputs": [],
   "source": []
  }
 ],
 "metadata": {
  "kernelspec": {
   "display_name": "Python 3 (ipykernel)",
   "language": "python",
   "name": "python3"
  },
  "language_info": {
   "codemirror_mode": {
    "name": "ipython",
    "version": 3
   },
   "file_extension": ".py",
   "mimetype": "text/x-python",
   "name": "python",
   "nbconvert_exporter": "python",
   "pygments_lexer": "ipython3",
   "version": "3.8.8"
  }
 },
 "nbformat": 4,
 "nbformat_minor": 5
}
